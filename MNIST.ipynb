{
 "cells": [
  {
   "cell_type": "code",
   "execution_count": 2,
   "metadata": {
    "colab": {},
    "colab_type": "code",
    "id": "12d2ayV1WvjH"
   },
   "outputs": [],
   "source": [
    "%matplotlib inline\n",
    "import tensorflow as tf\n",
    "import numpy as np\n",
    "import matplotlib.pyplot as plt"
   ]
  },
  {
   "cell_type": "code",
   "execution_count": 3,
   "metadata": {
    "colab": {
     "base_uri": "https://localhost:8080/",
     "height": 170
    },
    "colab_type": "code",
    "executionInfo": {
     "elapsed": 4433,
     "status": "ok",
     "timestamp": 1548515070665,
     "user": {
      "displayName": "林君翰",
      "photoUrl": "",
      "userId": "03336861074926232472"
     },
     "user_tz": -480
    },
    "id": "JPSOxLleWvjX",
    "outputId": "f55d7089-3a56-4575-adec-3130ad1c88e8"
   },
   "outputs": [
    {
     "name": "stdout",
     "output_type": "stream",
     "text": [
      "Requirement already satisfied: keras in /usr/local/lib/python3.5/dist-packages (2.2.4)\n",
      "Requirement already satisfied: keras-preprocessing>=1.0.5 in /usr/local/lib/python3.5/dist-packages (from keras) (1.0.5)\n",
      "Requirement already satisfied: six>=1.9.0 in /usr/local/lib/python3.5/dist-packages (from keras) (1.11.0)\n",
      "Requirement already satisfied: h5py in /usr/local/lib/python3.5/dist-packages (from keras) (2.8.0)\n",
      "Requirement already satisfied: keras-applications>=1.0.6 in /usr/local/lib/python3.5/dist-packages (from keras) (1.0.6)\n",
      "Requirement already satisfied: pyyaml in /usr/local/lib/python3.5/dist-packages (from keras) (3.13)\n",
      "Requirement already satisfied: numpy>=1.9.1 in /usr/local/lib/python3.5/dist-packages (from keras) (1.15.4)\n",
      "Requirement already satisfied: scipy>=0.14 in /usr/local/lib/python3.5/dist-packages (from keras) (1.1.0)\n",
      "\u001b[33mYou are using pip version 18.1, however version 19.0.1 is available.\n",
      "You should consider upgrading via the 'pip install --upgrade pip' command.\u001b[0m\n"
     ]
    },
    {
     "name": "stderr",
     "output_type": "stream",
     "text": [
      "Using TensorFlow backend.\n"
     ]
    }
   ],
   "source": [
    "# tensorflow docker doesn't have keras in it\n",
    "!pip install keras\n",
    "import keras\n",
    "from keras.datasets import mnist                     # Datasets\n",
    "from keras.models import Sequential                  # Sequntial model\n",
    "from keras.layers import Dense, Activation, Input    # Layers for model\n",
    "from keras.callbacks import TensorBoard              # TensorBoard callback function for model.fit"
   ]
  },
  {
   "cell_type": "code",
   "execution_count": 42,
   "metadata": {
    "colab": {
     "base_uri": "https://localhost:8080/",
     "height": 51
    },
    "colab_type": "code",
    "executionInfo": {
     "elapsed": 1337,
     "status": "ok",
     "timestamp": 1548515164416,
     "user": {
      "displayName": "林君翰",
      "photoUrl": "",
      "userId": "03336861074926232472"
     },
     "user_tz": -480
    },
    "id": "UEo-91qAWvjg",
    "outputId": "eab3d1c8-9dd4-4fdc-a8e0-10590356f65d"
   },
   "outputs": [
    {
     "data": {
      "image/png": "[encoded data removed]",
      "text/plain": [
       "<Figure size 432x288 with 1 Axes>"
      ]
     },
     "metadata": {
      "needs_background": "light"
     },
     "output_type": "display_data"
    }
   ],
   "source": [
    "# Load MNIST dataset\n",
    "(x_train, y_train), (x_test, y_test) = mnist.load_data()\n",
    "\n",
    "pixels = x_train[9487]\n",
    "label = y_train[9487]\n",
    "\n",
    "# Plot\n",
    "plt.title('Label is {label}'.format(label=label))\n",
    "plt.imshow(pixels, cmap='gray')\n",
    "\n",
    "plt.show()"
   ]
  },
  {
   "cell_type": "code",
   "execution_count": 43,
   "metadata": {
    "colab": {},
    "colab_type": "code",
    "id": "0jN_B71YWvjh"
   },
   "outputs": [],
   "source": [
    "# Set hyperparameters\n",
    "learning_rate = 0.01\n",
    "iteration = 50\n",
    "batch_size = 128"
   ]
  },
  {
   "cell_type": "markdown",
   "metadata": {},
   "source": [
    "### Preprocess the dataset\n",
    "`x_train` & `x_test`: 0-255. Black to white.\n",
    "* Reduce the range to 0~1\n",
    "\n",
    "`y_train` & `y_test`: 0~9. Represent the corresponding digit.\n",
    "* One-hot encoding"
   ]
  },
  {
   "cell_type": "code",
   "execution_count": 44,
   "metadata": {
    "colab": {
     "base_uri": "https://localhost:8080/",
     "height": 136
    },
    "colab_type": "code",
    "executionInfo": {
     "elapsed": 1591,
     "status": "ok",
     "timestamp": 1548515165040,
     "user": {
      "displayName": "林君翰",
      "photoUrl": "",
      "userId": "03336861074926232472"
     },
     "user_tz": -480
    },
    "id": "Uic9Cr18Wvjm",
    "outputId": "3a885b45-38a1-45ea-adf3-bc31c995fda6"
   },
   "outputs": [
    {
     "name": "stdout",
     "output_type": "stream",
     "text": [
      "[0. 1. 0. 0. 0. 0. 0. 0. 0. 0.]\n"
     ]
    }
   ],
   "source": [
    "# Preprocess the data\n",
    "o_y_train = y_train\n",
    "x_train = x_train/255\n",
    "y_train = keras.utils.to_categorical(y_train, num_classes=10)\n",
    "x_test = x_test/255\n",
    "y_test = keras.utils.to_categorical(y_test, num_classes=10)\n",
    "\n",
    "print(y_train[9487])\n",
    "\n",
    "#for i in range(10):\n",
    "#    print(o_y_train[i])\n",
    "#    print(y_train[i])"
   ]
  },
  {
   "cell_type": "code",
   "execution_count": 45,
   "metadata": {
    "colab": {},
    "colab_type": "code",
    "id": "SFEROcaLWvjn"
   },
   "outputs": [],
   "source": [
    "x_train = x_train.reshape((x_train.shape[0], x_train.shape[1]*x_train.shape[2]))\n",
    "x_test = x_test.reshape((x_test.shape[0], x_test.shape[1]*x_test.shape[2]))"
   ]
  },
  {
   "cell_type": "code",
   "execution_count": 46,
   "metadata": {
    "colab": {
     "base_uri": "https://localhost:8080/",
     "height": 85
    },
    "colab_type": "code",
    "executionInfo": {
     "elapsed": 576,
     "status": "ok",
     "timestamp": 1548515169650,
     "user": {
      "displayName": "林君翰",
      "photoUrl": "",
      "userId": "03336861074926232472"
     },
     "user_tz": -480
    },
    "id": "QTTLh-nKWvjp",
    "outputId": "6ba6ac95-1c76-48b8-df89-2a9cfea0b993"
   },
   "outputs": [
    {
     "name": "stdout",
     "output_type": "stream",
     "text": [
      "(60000, 784)\n",
      "(60000, 10)\n",
      "(10000, 784)\n",
      "(10000, 10)\n"
     ]
    }
   ],
   "source": [
    "print(x_train.shape)\n",
    "print(y_train.shape)\n",
    "print(x_test.shape)\n",
    "print(y_test.shape)"
   ]
  },
  {
   "cell_type": "code",
   "execution_count": 47,
   "metadata": {},
   "outputs": [],
   "source": [
    "(x_1, y_1), (x_2, y_2) = mnist.load_data()"
   ]
  },
  {
   "cell_type": "code",
   "execution_count": 48,
   "metadata": {},
   "outputs": [
    {
     "name": "stdout",
     "output_type": "stream",
     "text": [
      "(28, 28, 60000)\n",
      "(784, 60000)\n",
      "(28, 28, 10000)\n",
      "(784, 10000)\n"
     ]
    }
   ],
   "source": [
    "x_1 = x_1.T\n",
    "print(x_1.shape)\n",
    "x_1 = x_1.reshape(784, 60000)\n",
    "print(x_1.shape)\n",
    "\n",
    "x_2 = x_2.T\n",
    "print(x_2.shape)\n",
    "x_2 = x_2.reshape(784, 10000)\n",
    "print(x_2.shape)"
   ]
  },
  {
   "cell_type": "code",
   "execution_count": null,
   "metadata": {},
   "outputs": [],
   "source": []
  },
  {
   "cell_type": "code",
   "execution_count": null,
   "metadata": {},
   "outputs": [],
   "source": []
  },
  {
   "cell_type": "code",
   "execution_count": 49,
   "metadata": {
    "colab": {},
    "colab_type": "code",
    "id": "Nc9TSvH2Wvjx"
   },
   "outputs": [],
   "source": [
    "model_01 = Sequential()\n",
    "model_02 = Sequential()\n",
    "model_03 = Sequential()\n",
    "model_04 = Sequential()"
   ]
  },
  {
   "cell_type": "code",
   "execution_count": 50,
   "metadata": {
    "colab": {},
    "colab_type": "code",
    "id": "T6zTr9IvWvjy"
   },
   "outputs": [],
   "source": [
    "layer_1 = Dense(784, activation = 'relu', input_dim = 784, kernel_initializer='random_uniform',bias_initializer='zeros')\n",
    "layer_2 = Dense(100, activation = 'relu')\n",
    "layer_3 = Dense(30, activation = 'relu')\n",
    "layer_4 = Dense(10, activation = 'softmax')\n",
    "\n",
    "layer_1_1 = Dense(784, activation = 'relu', input_dim = 784, kernel_initializer='random_uniform',bias_initializer='zeros')\n",
    "layer_2_1 = Dense(100, activation = 'relu')\n",
    "layer_3_1 = Dense(30, activation = 'relu')\n",
    "layer_4_1 = Dense(10, activation = 'softmax')\n",
    "\n",
    "layer_1_2 = Dense(784, activation = 'relu', input_dim = 784, kernel_initializer='random_uniform',bias_initializer='zeros')\n",
    "layer_2_2 = Dense(100, activation = 'relu')\n",
    "layer_3_2 = Dense(30, activation = 'relu')\n",
    "layer_4_2 = Dense(10, activation = 'softmax')"
   ]
  },
  {
   "cell_type": "code",
   "execution_count": 51,
   "metadata": {
    "colab": {},
    "colab_type": "code",
    "id": "iMBv9t1dWvj1"
   },
   "outputs": [],
   "source": [
    "model_01.add(layer_1)\n",
    "model_01.add(layer_2)\n",
    "model_01.add(layer_3)\n",
    "model_01.add(layer_4)\n",
    "\n",
    "model_02.add(layer_1_1)\n",
    "model_02.add(layer_2_1)\n",
    "model_02.add(layer_3_1)\n",
    "model_02.add(layer_4_1)\n",
    "\n",
    "model_03.add(layer_1_2)\n",
    "model_03.add(layer_2_2)\n",
    "model_03.add(layer_3_2)\n",
    "model_03.add(layer_4_2)"
   ]
  },
  {
   "cell_type": "code",
   "execution_count": 52,
   "metadata": {},
   "outputs": [
    {
     "name": "stdout",
     "output_type": "stream",
     "text": [
      "_________________________________________________________________\n",
      "Layer (type)                 Output Shape              Param #   \n",
      "=================================================================\n",
      "dense_25 (Dense)             (None, 784)               615440    \n",
      "_________________________________________________________________\n",
      "dense_26 (Dense)             (None, 100)               78500     \n",
      "_________________________________________________________________\n",
      "dense_27 (Dense)             (None, 30)                3030      \n",
      "_________________________________________________________________\n",
      "dense_28 (Dense)             (None, 10)                310       \n",
      "=================================================================\n",
      "Total params: 697,280\n",
      "Trainable params: 697,280\n",
      "Non-trainable params: 0\n",
      "_________________________________________________________________\n",
      "_________________________________________________________________\n",
      "Layer (type)                 Output Shape              Param #   \n",
      "=================================================================\n",
      "dense_29 (Dense)             (None, 784)               615440    \n",
      "_________________________________________________________________\n",
      "dense_30 (Dense)             (None, 100)               78500     \n",
      "_________________________________________________________________\n",
      "dense_31 (Dense)             (None, 30)                3030      \n",
      "_________________________________________________________________\n",
      "dense_32 (Dense)             (None, 10)                310       \n",
      "=================================================================\n",
      "Total params: 697,280\n",
      "Trainable params: 697,280\n",
      "Non-trainable params: 0\n",
      "_________________________________________________________________\n",
      "_________________________________________________________________\n",
      "Layer (type)                 Output Shape              Param #   \n",
      "=================================================================\n",
      "dense_33 (Dense)             (None, 784)               615440    \n",
      "_________________________________________________________________\n",
      "dense_34 (Dense)             (None, 100)               78500     \n",
      "_________________________________________________________________\n",
      "dense_35 (Dense)             (None, 30)                3030      \n",
      "_________________________________________________________________\n",
      "dense_36 (Dense)             (None, 10)                310       \n",
      "=================================================================\n",
      "Total params: 697,280\n",
      "Trainable params: 697,280\n",
      "Non-trainable params: 0\n",
      "_________________________________________________________________\n"
     ]
    }
   ],
   "source": [
    "model_01.summary()\n",
    "model_02.summary()\n",
    "model_03.summary()"
   ]
  },
  {
   "cell_type": "code",
   "execution_count": 53,
   "metadata": {
    "colab": {},
    "colab_type": "code",
    "id": "Qdkr9ARnWvj5"
   },
   "outputs": [],
   "source": [
    "model_01.compile(optimizer = 'rmsprop', loss = 'categorical_crossentropy', metrics=['categorical_accuracy'])\n",
    "model_02.compile(optimizer = 'SGD', loss = 'categorical_crossentropy', metrics=['categorical_accuracy'])\n",
    "model_03.compile(optimizer = 'adam', loss = 'categorical_crossentropy', metrics=['categorical_accuracy'])"
   ]
  },
  {
   "cell_type": "code",
   "execution_count": 54,
   "metadata": {
    "colab": {
     "base_uri": "https://localhost:8080/",
     "height": 1717
    },
    "colab_type": "code",
    "executionInfo": {
     "elapsed": 151433,
     "status": "ok",
     "timestamp": 1548409008744,
     "user": {
      "displayName": "林君翰",
      "photoUrl": "",
      "userId": "03336861074926232472"
     },
     "user_tz": -480
    },
    "id": "4-xkb6gYWvkB",
    "outputId": "c836c62d-8e65-4671-8df1-ce69faa489f0"
   },
   "outputs": [
    {
     "name": "stdout",
     "output_type": "stream",
     "text": [
      "Train on 49998 samples, validate on 10002 samples\n",
      "Epoch 1/50\n",
      "49998/49998 [==============================] - 4s 75us/step - loss: 0.3011 - categorical_accuracy: 0.9089 - val_loss: 0.1290 - val_categorical_accuracy: 0.9642\n",
      "Epoch 2/50\n",
      "49998/49998 [==============================] - 3s 65us/step - loss: 0.1019 - categorical_accuracy: 0.9684 - val_loss: 0.0845 - val_categorical_accuracy: 0.9744\n",
      "Epoch 3/50\n",
      "49998/49998 [==============================] - 4s 71us/step - loss: 0.0667 - categorical_accuracy: 0.9797 - val_loss: 0.0882 - val_categorical_accuracy: 0.9724\n",
      "Epoch 4/50\n",
      "49998/49998 [==============================] - 3s 65us/step - loss: 0.0465 - categorical_accuracy: 0.9861 - val_loss: 0.0930 - val_categorical_accuracy: 0.9774\n",
      "Epoch 5/50\n",
      "49998/49998 [==============================] - 3s 63us/step - loss: 0.0345 - categorical_accuracy: 0.9892 - val_loss: 0.0859 - val_categorical_accuracy: 0.9785\n",
      "Epoch 6/50\n",
      "49998/49998 [==============================] - 4s 77us/step - loss: 0.0259 - categorical_accuracy: 0.9921 - val_loss: 0.1056 - val_categorical_accuracy: 0.9743\n",
      "Epoch 7/50\n",
      "49998/49998 [==============================] - 3s 62us/step - loss: 0.0214 - categorical_accuracy: 0.9936 - val_loss: 0.0904 - val_categorical_accuracy: 0.9786\n",
      "Epoch 8/50\n",
      "49998/49998 [==============================] - 3s 64us/step - loss: 0.0175 - categorical_accuracy: 0.9942 - val_loss: 0.0844 - val_categorical_accuracy: 0.9826\n",
      "Epoch 9/50\n",
      "49998/49998 [==============================] - 3s 62us/step - loss: 0.0143 - categorical_accuracy: 0.9956 - val_loss: 0.1195 - val_categorical_accuracy: 0.9782\n",
      "Epoch 10/50\n",
      "49998/49998 [==============================] - 3s 65us/step - loss: 0.0121 - categorical_accuracy: 0.9961 - val_loss: 0.0935 - val_categorical_accuracy: 0.9827\n",
      "Epoch 11/50\n",
      "49998/49998 [==============================] - 3s 65us/step - loss: 0.0101 - categorical_accuracy: 0.9967 - val_loss: 0.1075 - val_categorical_accuracy: 0.9816\n",
      "Epoch 12/50\n",
      "49998/49998 [==============================] - 3s 62us/step - loss: 0.0087 - categorical_accuracy: 0.9971 - val_loss: 0.1231 - val_categorical_accuracy: 0.9802\n",
      "Epoch 13/50\n",
      "49998/49998 [==============================] - 3s 62us/step - loss: 0.0095 - categorical_accuracy: 0.9970 - val_loss: 0.1140 - val_categorical_accuracy: 0.9824\n",
      "Epoch 14/50\n",
      "49998/49998 [==============================] - 3s 61us/step - loss: 0.0068 - categorical_accuracy: 0.9980 - val_loss: 0.1203 - val_categorical_accuracy: 0.9827\n",
      "Epoch 15/50\n",
      "49998/49998 [==============================] - 3s 60us/step - loss: 0.0064 - categorical_accuracy: 0.9980 - val_loss: 0.1211 - val_categorical_accuracy: 0.9822\n",
      "Epoch 16/50\n",
      "49998/49998 [==============================] - 3s 60us/step - loss: 0.0062 - categorical_accuracy: 0.9983 - val_loss: 0.1644 - val_categorical_accuracy: 0.9762\n",
      "Epoch 17/50\n",
      "49998/49998 [==============================] - 3s 59us/step - loss: 0.0049 - categorical_accuracy: 0.9987 - val_loss: 0.1418 - val_categorical_accuracy: 0.9802\n",
      "Epoch 18/50\n",
      "49998/49998 [==============================] - 3s 60us/step - loss: 0.0061 - categorical_accuracy: 0.9982 - val_loss: 0.1654 - val_categorical_accuracy: 0.9785\n",
      "Epoch 19/50\n",
      "49998/49998 [==============================] - 3s 60us/step - loss: 0.0047 - categorical_accuracy: 0.9987 - val_loss: 0.1385 - val_categorical_accuracy: 0.9811\n",
      "Epoch 20/50\n",
      "49998/49998 [==============================] - 3s 61us/step - loss: 0.0048 - categorical_accuracy: 0.9988 - val_loss: 0.1550 - val_categorical_accuracy: 0.9796\n",
      "Epoch 21/50\n",
      "49998/49998 [==============================] - 3s 64us/step - loss: 0.0054 - categorical_accuracy: 0.9985 - val_loss: 0.1543 - val_categorical_accuracy: 0.9811\n",
      "Epoch 22/50\n",
      "49998/49998 [==============================] - 3s 60us/step - loss: 0.0043 - categorical_accuracy: 0.9988 - val_loss: 0.1323 - val_categorical_accuracy: 0.9844\n",
      "Epoch 23/50\n",
      "49998/49998 [==============================] - 3s 59us/step - loss: 0.0036 - categorical_accuracy: 0.9991 - val_loss: 0.1480 - val_categorical_accuracy: 0.9815\n",
      "Epoch 24/50\n",
      "49998/49998 [==============================] - 3s 59us/step - loss: 0.0036 - categorical_accuracy: 0.9992 - val_loss: 0.1483 - val_categorical_accuracy: 0.9830\n",
      "Epoch 25/50\n",
      "49998/49998 [==============================] - 3s 60us/step - loss: 0.0041 - categorical_accuracy: 0.9991 - val_loss: 0.1653 - val_categorical_accuracy: 0.9823\n",
      "Epoch 26/50\n",
      "49998/49998 [==============================] - 3s 59us/step - loss: 0.0033 - categorical_accuracy: 0.9991 - val_loss: 0.1801 - val_categorical_accuracy: 0.9796\n",
      "Epoch 27/50\n",
      "49998/49998 [==============================] - 3s 59us/step - loss: 0.0026 - categorical_accuracy: 0.9993 - val_loss: 0.1505 - val_categorical_accuracy: 0.9826\n",
      "Epoch 28/50\n",
      "49998/49998 [==============================] - 3s 59us/step - loss: 0.0036 - categorical_accuracy: 0.9993 - val_loss: 0.1607 - val_categorical_accuracy: 0.9830\n",
      "Epoch 29/50\n",
      "49998/49998 [==============================] - 3s 59us/step - loss: 0.0034 - categorical_accuracy: 0.9993 - val_loss: 0.1936 - val_categorical_accuracy: 0.9799\n",
      "Epoch 30/50\n",
      "49998/49998 [==============================] - 3s 59us/step - loss: 0.0023 - categorical_accuracy: 0.9994 - val_loss: 0.1737 - val_categorical_accuracy: 0.9802\n",
      "Epoch 31/50\n",
      "49998/49998 [==============================] - 3s 59us/step - loss: 0.0039 - categorical_accuracy: 0.9991 - val_loss: 0.1642 - val_categorical_accuracy: 0.9814\n",
      "Epoch 32/50\n",
      "49998/49998 [==============================] - 3s 59us/step - loss: 0.0039 - categorical_accuracy: 0.9990 - val_loss: 0.1765 - val_categorical_accuracy: 0.9805\n",
      "Epoch 33/50\n",
      "49998/49998 [==============================] - 3s 60us/step - loss: 0.0036 - categorical_accuracy: 0.9992 - val_loss: 0.1677 - val_categorical_accuracy: 0.9815\n",
      "Epoch 34/50\n",
      "49998/49998 [==============================] - 3s 59us/step - loss: 0.0031 - categorical_accuracy: 0.9993 - val_loss: 0.1525 - val_categorical_accuracy: 0.9843\n",
      "Epoch 35/50\n",
      "49998/49998 [==============================] - 3s 59us/step - loss: 0.0023 - categorical_accuracy: 0.9993 - val_loss: 0.1682 - val_categorical_accuracy: 0.9820\n",
      "Epoch 36/50\n",
      "49998/49998 [==============================] - 3s 59us/step - loss: 0.0035 - categorical_accuracy: 0.9992 - val_loss: 0.1695 - val_categorical_accuracy: 0.9830\n",
      "Epoch 37/50\n",
      "49998/49998 [==============================] - 3s 59us/step - loss: 0.0038 - categorical_accuracy: 0.9990 - val_loss: 0.1766 - val_categorical_accuracy: 0.9824\n",
      "Epoch 38/50\n",
      "49998/49998 [==============================] - 3s 59us/step - loss: 0.0033 - categorical_accuracy: 0.9994 - val_loss: 0.1773 - val_categorical_accuracy: 0.9831\n",
      "Epoch 39/50\n",
      "49998/49998 [==============================] - 3s 57us/step - loss: 0.0037 - categorical_accuracy: 0.9993 - val_loss: 0.1661 - val_categorical_accuracy: 0.9840\n",
      "Epoch 40/50\n",
      "49998/49998 [==============================] - 3s 58us/step - loss: 0.0013 - categorical_accuracy: 0.9997 - val_loss: 0.2025 - val_categorical_accuracy: 0.9801\n",
      "Epoch 41/50\n",
      "49998/49998 [==============================] - 3s 58us/step - loss: 0.0033 - categorical_accuracy: 0.9993 - val_loss: 0.1840 - val_categorical_accuracy: 0.9812\n",
      "Epoch 42/50\n",
      "49998/49998 [==============================] - 3s 63us/step - loss: 0.0038 - categorical_accuracy: 0.9993 - val_loss: 0.1740 - val_categorical_accuracy: 0.9825\n",
      "Epoch 43/50\n",
      "49998/49998 [==============================] - 3s 60us/step - loss: 0.0032 - categorical_accuracy: 0.9992 - val_loss: 0.1835 - val_categorical_accuracy: 0.9827\n",
      "Epoch 44/50\n",
      "49998/49998 [==============================] - 3s 59us/step - loss: 0.0026 - categorical_accuracy: 0.9995 - val_loss: 0.1880 - val_categorical_accuracy: 0.9813\n",
      "Epoch 45/50\n",
      "49998/49998 [==============================] - 3s 59us/step - loss: 0.0018 - categorical_accuracy: 0.9995 - val_loss: 0.1897 - val_categorical_accuracy: 0.9815\n",
      "Epoch 46/50\n",
      "49998/49998 [==============================] - 3s 60us/step - loss: 0.0022 - categorical_accuracy: 0.9994 - val_loss: 0.1854 - val_categorical_accuracy: 0.9819\n",
      "Epoch 47/50\n",
      "49998/49998 [==============================] - 3s 58us/step - loss: 0.0033 - categorical_accuracy: 0.9991 - val_loss: 0.1972 - val_categorical_accuracy: 0.9802\n",
      "Epoch 48/50\n",
      "49998/49998 [==============================] - 3s 59us/step - loss: 0.0028 - categorical_accuracy: 0.9993 - val_loss: 0.1698 - val_categorical_accuracy: 0.9847\n",
      "Epoch 49/50\n",
      "49998/49998 [==============================] - 3s 58us/step - loss: 0.0022 - categorical_accuracy: 0.9995 - val_loss: 0.1967 - val_categorical_accuracy: 0.9810\n",
      "Epoch 50/50\n",
      "49998/49998 [==============================] - 3s 59us/step - loss: 0.0031 - categorical_accuracy: 0.9993 - val_loss: 0.1951 - val_categorical_accuracy: 0.9815\n",
      "Train on 49998 samples, validate on 10002 samples\n",
      "Epoch 1/50\n",
      "49998/49998 [==============================] - 3s 54us/step - loss: 1.4648 - categorical_accuracy: 0.6172 - val_loss: 0.6490 - val_categorical_accuracy: 0.8620\n",
      "Epoch 2/50\n",
      "49998/49998 [==============================] - 3s 50us/step - loss: 0.5087 - categorical_accuracy: 0.8730 - val_loss: 0.3715 - val_categorical_accuracy: 0.9012\n",
      "Epoch 3/50\n",
      "49998/49998 [==============================] - 3s 50us/step - loss: 0.3679 - categorical_accuracy: 0.8987 - val_loss: 0.3071 - val_categorical_accuracy: 0.9121\n",
      "Epoch 4/50\n",
      "49998/49998 [==============================] - 3s 50us/step - loss: 0.3169 - categorical_accuracy: 0.9100 - val_loss: 0.2823 - val_categorical_accuracy: 0.9196\n",
      "Epoch 5/50\n",
      "49998/49998 [==============================] - 3s 50us/step - loss: 0.2854 - categorical_accuracy: 0.9180 - val_loss: 0.2529 - val_categorical_accuracy: 0.9288\n",
      "Epoch 6/50\n",
      "49998/49998 [==============================] - 3s 50us/step - loss: 0.2620 - categorical_accuracy: 0.9251 - val_loss: 0.2368 - val_categorical_accuracy: 0.9328\n",
      "Epoch 7/50\n",
      "49998/49998 [==============================] - 3s 50us/step - loss: 0.2433 - categorical_accuracy: 0.9304 - val_loss: 0.2199 - val_categorical_accuracy: 0.9386\n",
      "Epoch 8/50\n",
      "49998/49998 [==============================] - 3s 50us/step - loss: 0.2271 - categorical_accuracy: 0.9343 - val_loss: 0.2097 - val_categorical_accuracy: 0.9419\n",
      "Epoch 9/50\n",
      "49998/49998 [==============================] - 3s 50us/step - loss: 0.2132 - categorical_accuracy: 0.9389 - val_loss: 0.1976 - val_categorical_accuracy: 0.9467\n",
      "Epoch 10/50\n",
      "49998/49998 [==============================] - 2s 50us/step - loss: 0.2007 - categorical_accuracy: 0.9422 - val_loss: 0.1875 - val_categorical_accuracy: 0.9485\n",
      "Epoch 11/50\n",
      "49998/49998 [==============================] - 3s 51us/step - loss: 0.1892 - categorical_accuracy: 0.9451 - val_loss: 0.1787 - val_categorical_accuracy: 0.9525\n",
      "Epoch 12/50\n",
      "49998/49998 [==============================] - 3s 51us/step - loss: 0.1790 - categorical_accuracy: 0.9480 - val_loss: 0.1724 - val_categorical_accuracy: 0.9538\n",
      "Epoch 13/50\n",
      "49998/49998 [==============================] - 3s 54us/step - loss: 0.1699 - categorical_accuracy: 0.9516 - val_loss: 0.1638 - val_categorical_accuracy: 0.9564\n",
      "Epoch 14/50\n",
      "49998/49998 [==============================] - 3s 50us/step - loss: 0.1611 - categorical_accuracy: 0.9534 - val_loss: 0.1588 - val_categorical_accuracy: 0.9573\n",
      "Epoch 15/50\n",
      "49998/49998 [==============================] - 3s 51us/step - loss: 0.1534 - categorical_accuracy: 0.9566 - val_loss: 0.1524 - val_categorical_accuracy: 0.9585\n",
      "Epoch 16/50\n",
      "49998/49998 [==============================] - 3s 51us/step - loss: 0.1462 - categorical_accuracy: 0.9581 - val_loss: 0.1462 - val_categorical_accuracy: 0.9601\n",
      "Epoch 17/50\n",
      "49998/49998 [==============================] - 3s 50us/step - loss: 0.1392 - categorical_accuracy: 0.9603 - val_loss: 0.1413 - val_categorical_accuracy: 0.9613\n",
      "Epoch 18/50\n",
      "49998/49998 [==============================] - 3s 50us/step - loss: 0.1325 - categorical_accuracy: 0.9619 - val_loss: 0.1435 - val_categorical_accuracy: 0.9626\n",
      "Epoch 19/50\n",
      "49998/49998 [==============================] - 3s 50us/step - loss: 0.1268 - categorical_accuracy: 0.9636 - val_loss: 0.1341 - val_categorical_accuracy: 0.9642\n",
      "Epoch 20/50\n",
      "49998/49998 [==============================] - 3s 50us/step - loss: 0.1214 - categorical_accuracy: 0.9650 - val_loss: 0.1301 - val_categorical_accuracy: 0.9649\n",
      "Epoch 21/50\n",
      "49998/49998 [==============================] - 3s 50us/step - loss: 0.1157 - categorical_accuracy: 0.9671 - val_loss: 0.1283 - val_categorical_accuracy: 0.9647\n",
      "Epoch 22/50\n",
      "49998/49998 [==============================] - 3s 51us/step - loss: 0.1107 - categorical_accuracy: 0.9683 - val_loss: 0.1238 - val_categorical_accuracy: 0.9659\n",
      "Epoch 23/50\n",
      "49998/49998 [==============================] - 3s 50us/step - loss: 0.1065 - categorical_accuracy: 0.9692 - val_loss: 0.1206 - val_categorical_accuracy: 0.9678\n",
      "Epoch 24/50\n",
      "49998/49998 [==============================] - 3s 51us/step - loss: 0.1016 - categorical_accuracy: 0.9714 - val_loss: 0.1207 - val_categorical_accuracy: 0.9665\n",
      "Epoch 25/50\n",
      "49998/49998 [==============================] - 2s 50us/step - loss: 0.0975 - categorical_accuracy: 0.9723 - val_loss: 0.1153 - val_categorical_accuracy: 0.9692\n",
      "Epoch 26/50\n",
      "49998/49998 [==============================] - 3s 50us/step - loss: 0.0934 - categorical_accuracy: 0.9734 - val_loss: 0.1135 - val_categorical_accuracy: 0.9682\n",
      "Epoch 27/50\n",
      "49998/49998 [==============================] - 3s 50us/step - loss: 0.0897 - categorical_accuracy: 0.9748 - val_loss: 0.1125 - val_categorical_accuracy: 0.9677\n",
      "Epoch 28/50\n",
      "49998/49998 [==============================] - 3s 50us/step - loss: 0.0862 - categorical_accuracy: 0.9759 - val_loss: 0.1109 - val_categorical_accuracy: 0.9687\n",
      "Epoch 29/50\n",
      "49998/49998 [==============================] - 2s 50us/step - loss: 0.0825 - categorical_accuracy: 0.9770 - val_loss: 0.1072 - val_categorical_accuracy: 0.9708\n",
      "Epoch 30/50\n",
      "49998/49998 [==============================] - 3s 51us/step - loss: 0.0793 - categorical_accuracy: 0.9780 - val_loss: 0.1047 - val_categorical_accuracy: 0.9707\n",
      "Epoch 31/50\n",
      "49998/49998 [==============================] - 3s 50us/step - loss: 0.0761 - categorical_accuracy: 0.9795 - val_loss: 0.1036 - val_categorical_accuracy: 0.9705\n",
      "Epoch 32/50\n",
      "49998/49998 [==============================] - 3s 51us/step - loss: 0.0732 - categorical_accuracy: 0.9797 - val_loss: 0.1011 - val_categorical_accuracy: 0.9715\n",
      "Epoch 33/50\n",
      "49998/49998 [==============================] - 3s 51us/step - loss: 0.0705 - categorical_accuracy: 0.9808 - val_loss: 0.0993 - val_categorical_accuracy: 0.9722\n",
      "Epoch 34/50\n",
      "49998/49998 [==============================] - 3s 50us/step - loss: 0.0677 - categorical_accuracy: 0.9815 - val_loss: 0.0994 - val_categorical_accuracy: 0.9721\n",
      "Epoch 35/50\n",
      "49998/49998 [==============================] - 3s 50us/step - loss: 0.0652 - categorical_accuracy: 0.9821 - val_loss: 0.0974 - val_categorical_accuracy: 0.9736\n",
      "Epoch 36/50\n",
      "49998/49998 [==============================] - 3s 51us/step - loss: 0.0628 - categorical_accuracy: 0.9831 - val_loss: 0.0946 - val_categorical_accuracy: 0.9728\n",
      "Epoch 37/50\n",
      "49998/49998 [==============================] - 2s 50us/step - loss: 0.0604 - categorical_accuracy: 0.9837 - val_loss: 0.0944 - val_categorical_accuracy: 0.9728\n",
      "Epoch 38/50\n",
      "49998/49998 [==============================] - 3s 51us/step - loss: 0.0581 - categorical_accuracy: 0.9852 - val_loss: 0.0920 - val_categorical_accuracy: 0.9739\n",
      "Epoch 39/50\n",
      "49998/49998 [==============================] - 3s 51us/step - loss: 0.0558 - categorical_accuracy: 0.9856 - val_loss: 0.0966 - val_categorical_accuracy: 0.9735\n",
      "Epoch 40/50\n",
      "49998/49998 [==============================] - 3s 52us/step - loss: 0.0538 - categorical_accuracy: 0.9861 - val_loss: 0.0921 - val_categorical_accuracy: 0.9742\n",
      "Epoch 41/50\n",
      "49998/49998 [==============================] - 3s 51us/step - loss: 0.0520 - categorical_accuracy: 0.9864 - val_loss: 0.0889 - val_categorical_accuracy: 0.9748\n",
      "Epoch 42/50\n",
      "49998/49998 [==============================] - 3s 51us/step - loss: 0.0499 - categorical_accuracy: 0.9870 - val_loss: 0.0891 - val_categorical_accuracy: 0.9750\n",
      "Epoch 43/50\n",
      "49998/49998 [==============================] - 3s 50us/step - loss: 0.0481 - categorical_accuracy: 0.9877 - val_loss: 0.0889 - val_categorical_accuracy: 0.9754\n",
      "Epoch 44/50\n",
      "49998/49998 [==============================] - 3s 50us/step - loss: 0.0465 - categorical_accuracy: 0.9881 - val_loss: 0.0876 - val_categorical_accuracy: 0.9762\n",
      "Epoch 45/50\n"
     ]
    },
    {
     "name": "stdout",
     "output_type": "stream",
     "text": [
      "49998/49998 [==============================] - 3s 51us/step - loss: 0.0447 - categorical_accuracy: 0.9887 - val_loss: 0.0864 - val_categorical_accuracy: 0.9764\n",
      "Epoch 46/50\n",
      "49998/49998 [==============================] - 3s 50us/step - loss: 0.0434 - categorical_accuracy: 0.9889 - val_loss: 0.0865 - val_categorical_accuracy: 0.9757\n",
      "Epoch 47/50\n",
      "49998/49998 [==============================] - 3s 51us/step - loss: 0.0418 - categorical_accuracy: 0.9898 - val_loss: 0.0862 - val_categorical_accuracy: 0.9759\n",
      "Epoch 48/50\n",
      "49998/49998 [==============================] - 3s 52us/step - loss: 0.0402 - categorical_accuracy: 0.9902 - val_loss: 0.0846 - val_categorical_accuracy: 0.9760\n",
      "Epoch 49/50\n",
      "49998/49998 [==============================] - 3s 51us/step - loss: 0.0388 - categorical_accuracy: 0.9906 - val_loss: 0.0851 - val_categorical_accuracy: 0.9767\n",
      "Epoch 50/50\n",
      "49998/49998 [==============================] - 3s 55us/step - loss: 0.0375 - categorical_accuracy: 0.9910 - val_loss: 0.0854 - val_categorical_accuracy: 0.9757\n",
      "Train on 49998 samples, validate on 10002 samples\n",
      "Epoch 1/50\n",
      "49998/49998 [==============================] - 3s 66us/step - loss: 0.2773 - categorical_accuracy: 0.9211 - val_loss: 0.1419 - val_categorical_accuracy: 0.9577\n",
      "Epoch 2/50\n",
      "49998/49998 [==============================] - 3s 62us/step - loss: 0.1033 - categorical_accuracy: 0.9690 - val_loss: 0.0935 - val_categorical_accuracy: 0.9703\n",
      "Epoch 3/50\n",
      "49998/49998 [==============================] - 3s 62us/step - loss: 0.0658 - categorical_accuracy: 0.9797 - val_loss: 0.0846 - val_categorical_accuracy: 0.9765\n",
      "Epoch 4/50\n",
      "49998/49998 [==============================] - 3s 63us/step - loss: 0.0443 - categorical_accuracy: 0.9858 - val_loss: 0.0773 - val_categorical_accuracy: 0.9769\n",
      "Epoch 5/50\n",
      "49998/49998 [==============================] - 3s 63us/step - loss: 0.0334 - categorical_accuracy: 0.9889 - val_loss: 0.0858 - val_categorical_accuracy: 0.9752\n",
      "Epoch 6/50\n",
      "49998/49998 [==============================] - 3s 62us/step - loss: 0.0249 - categorical_accuracy: 0.9919 - val_loss: 0.0848 - val_categorical_accuracy: 0.9791\n",
      "Epoch 7/50\n",
      "49998/49998 [==============================] - 3s 63us/step - loss: 0.0232 - categorical_accuracy: 0.9922 - val_loss: 0.0821 - val_categorical_accuracy: 0.9776\n",
      "Epoch 8/50\n",
      "49998/49998 [==============================] - 3s 62us/step - loss: 0.0153 - categorical_accuracy: 0.9948 - val_loss: 0.0816 - val_categorical_accuracy: 0.9789\n",
      "Epoch 9/50\n",
      "49998/49998 [==============================] - 3s 63us/step - loss: 0.0166 - categorical_accuracy: 0.9941 - val_loss: 0.0955 - val_categorical_accuracy: 0.9768\n",
      "Epoch 10/50\n",
      "49998/49998 [==============================] - 3s 70us/step - loss: 0.0135 - categorical_accuracy: 0.9954 - val_loss: 0.0943 - val_categorical_accuracy: 0.9783\n",
      "Epoch 11/50\n",
      "49998/49998 [==============================] - 3s 63us/step - loss: 0.0165 - categorical_accuracy: 0.9943 - val_loss: 0.0938 - val_categorical_accuracy: 0.9800\n",
      "Epoch 12/50\n",
      "49998/49998 [==============================] - 3s 62us/step - loss: 0.0089 - categorical_accuracy: 0.9969 - val_loss: 0.1070 - val_categorical_accuracy: 0.9758\n",
      "Epoch 13/50\n",
      "49998/49998 [==============================] - 3s 63us/step - loss: 0.0087 - categorical_accuracy: 0.9972 - val_loss: 0.1158 - val_categorical_accuracy: 0.9750\n",
      "Epoch 14/50\n",
      "49998/49998 [==============================] - 3s 62us/step - loss: 0.0119 - categorical_accuracy: 0.9960 - val_loss: 0.0985 - val_categorical_accuracy: 0.9776\n",
      "Epoch 15/50\n",
      "49998/49998 [==============================] - 3s 62us/step - loss: 0.0070 - categorical_accuracy: 0.9977 - val_loss: 0.0997 - val_categorical_accuracy: 0.9787\n",
      "Epoch 16/50\n",
      "49998/49998 [==============================] - 3s 62us/step - loss: 0.0111 - categorical_accuracy: 0.9963 - val_loss: 0.1215 - val_categorical_accuracy: 0.9766\n",
      "Epoch 17/50\n",
      "49998/49998 [==============================] - 3s 63us/step - loss: 0.0091 - categorical_accuracy: 0.9970 - val_loss: 0.1039 - val_categorical_accuracy: 0.9799\n",
      "Epoch 18/50\n",
      "49998/49998 [==============================] - 3s 63us/step - loss: 0.0093 - categorical_accuracy: 0.9972 - val_loss: 0.1084 - val_categorical_accuracy: 0.9782\n",
      "Epoch 19/50\n",
      "49998/49998 [==============================] - 3s 63us/step - loss: 0.0082 - categorical_accuracy: 0.9971 - val_loss: 0.0901 - val_categorical_accuracy: 0.9821\n",
      "Epoch 20/50\n",
      "49998/49998 [==============================] - 3s 69us/step - loss: 0.0021 - categorical_accuracy: 0.9993 - val_loss: 0.0925 - val_categorical_accuracy: 0.9836\n",
      "Epoch 21/50\n",
      "49998/49998 [==============================] - 3s 63us/step - loss: 0.0108 - categorical_accuracy: 0.9969 - val_loss: 0.0980 - val_categorical_accuracy: 0.9803\n",
      "Epoch 22/50\n",
      "49998/49998 [==============================] - 3s 62us/step - loss: 0.0078 - categorical_accuracy: 0.9974 - val_loss: 0.0990 - val_categorical_accuracy: 0.9811\n",
      "Epoch 23/50\n",
      "49998/49998 [==============================] - 3s 62us/step - loss: 0.0025 - categorical_accuracy: 0.9993 - val_loss: 0.1064 - val_categorical_accuracy: 0.9822\n",
      "Epoch 24/50\n",
      "49998/49998 [==============================] - 3s 62us/step - loss: 0.0069 - categorical_accuracy: 0.9979 - val_loss: 0.1292 - val_categorical_accuracy: 0.9762\n",
      "Epoch 25/50\n",
      "49998/49998 [==============================] - 4s 85us/step - loss: 0.0102 - categorical_accuracy: 0.9966 - val_loss: 0.0907 - val_categorical_accuracy: 0.9825\n",
      "Epoch 26/50\n",
      "49998/49998 [==============================] - 3s 63us/step - loss: 0.0035 - categorical_accuracy: 0.9988 - val_loss: 0.1012 - val_categorical_accuracy: 0.9815\n",
      "Epoch 27/50\n",
      "49998/49998 [==============================] - 3s 63us/step - loss: 0.0037 - categorical_accuracy: 0.9989 - val_loss: 0.1092 - val_categorical_accuracy: 0.9811\n",
      "Epoch 28/50\n",
      "49998/49998 [==============================] - 3s 63us/step - loss: 0.0079 - categorical_accuracy: 0.9975 - val_loss: 0.1138 - val_categorical_accuracy: 0.9804\n",
      "Epoch 29/50\n",
      "49998/49998 [==============================] - 3s 67us/step - loss: 0.0086 - categorical_accuracy: 0.9974 - val_loss: 0.1083 - val_categorical_accuracy: 0.9806\n",
      "Epoch 30/50\n",
      "49998/49998 [==============================] - 3s 62us/step - loss: 0.0054 - categorical_accuracy: 0.9983 - val_loss: 0.1011 - val_categorical_accuracy: 0.9821\n",
      "Epoch 31/50\n",
      "49998/49998 [==============================] - 3s 62us/step - loss: 0.0035 - categorical_accuracy: 0.9989 - val_loss: 0.1122 - val_categorical_accuracy: 0.9810\n",
      "Epoch 32/50\n",
      "49998/49998 [==============================] - 3s 62us/step - loss: 0.0075 - categorical_accuracy: 0.9977 - val_loss: 0.1221 - val_categorical_accuracy: 0.9793\n",
      "Epoch 33/50\n",
      "49998/49998 [==============================] - 3s 64us/step - loss: 0.0038 - categorical_accuracy: 0.9989 - val_loss: 0.1194 - val_categorical_accuracy: 0.9807\n",
      "Epoch 34/50\n",
      "49998/49998 [==============================] - 3s 63us/step - loss: 0.0082 - categorical_accuracy: 0.9979 - val_loss: 0.1155 - val_categorical_accuracy: 0.9808\n",
      "Epoch 35/50\n",
      "49998/49998 [==============================] - 3s 63us/step - loss: 0.0022 - categorical_accuracy: 0.9994 - val_loss: 0.1125 - val_categorical_accuracy: 0.9799\n",
      "Epoch 36/50\n",
      "49998/49998 [==============================] - 4s 73us/step - loss: 0.0024 - categorical_accuracy: 0.9993 - val_loss: 0.0964 - val_categorical_accuracy: 0.9833\n",
      "Epoch 37/50\n",
      "49998/49998 [==============================] - 3s 63us/step - loss: 0.0083 - categorical_accuracy: 0.9974 - val_loss: 0.1229 - val_categorical_accuracy: 0.9780\n",
      "Epoch 38/50\n",
      "49998/49998 [==============================] - 3s 62us/step - loss: 0.0034 - categorical_accuracy: 0.9989 - val_loss: 0.1161 - val_categorical_accuracy: 0.9812\n",
      "Epoch 39/50\n",
      "49998/49998 [==============================] - 4s 74us/step - loss: 0.0050 - categorical_accuracy: 0.9986 - val_loss: 0.1147 - val_categorical_accuracy: 0.9816\n",
      "Epoch 40/50\n",
      "49998/49998 [==============================] - 3s 63us/step - loss: 0.0044 - categorical_accuracy: 0.9988 - val_loss: 0.1142 - val_categorical_accuracy: 0.9818\n",
      "Epoch 41/50\n",
      "49998/49998 [==============================] - 3s 65us/step - loss: 0.0017 - categorical_accuracy: 0.9995 - val_loss: 0.1287 - val_categorical_accuracy: 0.9801\n",
      "Epoch 42/50\n",
      "49998/49998 [==============================] - 3s 62us/step - loss: 0.0049 - categorical_accuracy: 0.9986 - val_loss: 0.1261 - val_categorical_accuracy: 0.9800\n",
      "Epoch 43/50\n",
      "49998/49998 [==============================] - 3s 64us/step - loss: 0.0056 - categorical_accuracy: 0.9985 - val_loss: 0.1111 - val_categorical_accuracy: 0.9823\n",
      "Epoch 44/50\n",
      "49998/49998 [==============================] - 3s 65us/step - loss: 0.0022 - categorical_accuracy: 0.9993 - val_loss: 0.1210 - val_categorical_accuracy: 0.9807\n",
      "Epoch 45/50\n",
      "49998/49998 [==============================] - 3s 63us/step - loss: 0.0024 - categorical_accuracy: 0.9993 - val_loss: 0.1252 - val_categorical_accuracy: 0.9819\n",
      "Epoch 46/50\n",
      "49998/49998 [==============================] - 3s 63us/step - loss: 0.0040 - categorical_accuracy: 0.9990 - val_loss: 0.1329 - val_categorical_accuracy: 0.9793\n",
      "Epoch 47/50\n",
      "49998/49998 [==============================] - 3s 64us/step - loss: 0.0034 - categorical_accuracy: 0.9991 - val_loss: 0.1205 - val_categorical_accuracy: 0.9805\n",
      "Epoch 48/50\n",
      "49998/49998 [==============================] - 3s 63us/step - loss: 0.0037 - categorical_accuracy: 0.9989 - val_loss: 0.1526 - val_categorical_accuracy: 0.9778\n",
      "Epoch 49/50\n",
      "49998/49998 [==============================] - 3s 63us/step - loss: 0.0070 - categorical_accuracy: 0.9981 - val_loss: 0.1339 - val_categorical_accuracy: 0.9804\n",
      "Epoch 50/50\n",
      "49998/49998 [==============================] - 3s 62us/step - loss: 0.0049 - categorical_accuracy: 0.9986 - val_loss: 0.1345 - val_categorical_accuracy: 0.9805\n"
     ]
    }
   ],
   "source": [
    "history_01 = model_01.fit(x_train, y_train, epochs=iteration, batch_size=batch_size, validation_split=0.1667, verbose = 1, callbacks=[TensorBoard(log_dir='./tmp/log_4')])\n",
    "history_02 = model_02.fit(x_train, y_train, epochs=iteration, batch_size=batch_size, validation_split=0.1667, verbose = 1, callbacks=[TensorBoard(log_dir='./tmp/log_5')])\n",
    "history_03 = model_03.fit(x_train, y_train, epochs=iteration, batch_size=batch_size, validation_split=0.1667, verbose = 1, callbacks=[TensorBoard(log_dir='./tmp/log_6')])"
   ]
  },
  {
   "cell_type": "code",
   "execution_count": 14,
   "metadata": {
    "colab": {
     "base_uri": "https://localhost:8080/",
     "height": 51
    },
    "colab_type": "code",
    "executionInfo": {
     "elapsed": 777,
     "status": "ok",
     "timestamp": 1548409013109,
     "user": {
      "displayName": "林君翰",
      "photoUrl": "",
      "userId": "03336861074926232472"
     },
     "user_tz": -480
    },
    "id": "cYwyrtLUWvkE",
    "outputId": "6a1afe3d-a5ec-4de0-fe09-5952993ce684"
   },
   "outputs": [
    {
     "name": "stdout",
     "output_type": "stream",
     "text": [
      "10000/10000 [==============================] - 1s 69us/step\n",
      "model_01: [0.15131403505802155, 0.957099974155426]\n"
     ]
    }
   ],
   "source": [
    "evaluate_01 = model_01.evaluate(x_test, y_test, batch_size = batch_size)\n",
    "print(\"model_01: {}\".format(evaluate_01))\n"
   ]
  },
  {
   "cell_type": "code",
   "execution_count": 15,
   "metadata": {
    "colab": {
     "base_uri": "https://localhost:8080/",
     "height": 571
    },
    "colab_type": "code",
    "executionInfo": {
     "elapsed": 1314,
     "status": "ok",
     "timestamp": 1548409036617,
     "user": {
      "displayName": "林君翰",
      "photoUrl": "",
      "userId": "03336861074926232472"
     },
     "user_tz": -480
    },
    "id": "0ux0KaI0WvkH",
    "outputId": "8b7b76c2-52d8-4c65-9181-73fd2837e5e4"
   },
   "outputs": [
    {
     "name": "stdout",
     "output_type": "stream",
     "text": [
      "----- MNIST handwritten digit database -----\n",
      "\n",
      "Training set size: 49998.0,\n",
      "Dev set size: 10002.0,\n",
      "Test set size: 10000\n",
      "\n",
      "Learning rate: 0.01,\n",
      "Iteration: 50,\n",
      "Batch size: 30000\n",
      "\n",
      "10000/10000 [==============================] - 0s 26us/step\n",
      "10000/10000 [==============================] - 0s 20us/step\n",
      "10000/10000 [==============================] - 0s 16us/step\n"
     ]
    },
    {
     "data": {
      "image/png": "[encoded data removed]",
      "text/plain": [
       "<Figure size 432x288 with 2 Axes>"
      ]
     },
     "metadata": {
      "needs_background": "light"
     },
     "output_type": "display_data"
    },
    {
     "name": "stdout",
     "output_type": "stream",
     "text": [
      "Loss: 0.15131403505802155, Acc: 0.957099974155426\n"
     ]
    },
    {
     "data": {
      "image/png": "[encoded data removed]",
      "text/plain": [
       "<Figure size 432x288 with 2 Axes>"
      ]
     },
     "metadata": {
      "needs_background": "light"
     },
     "output_type": "display_data"
    },
    {
     "name": "stdout",
     "output_type": "stream",
     "text": [
      "Loss: 1.825995683670044, Acc: 0.5566999912261963\n"
     ]
    },
    {
     "data": {
      "image/png": "[encoded data removed]",
      "text/plain": [
       "<Figure size 432x288 with 2 Axes>"
      ]
     },
     "metadata": {
      "needs_background": "light"
     },
     "output_type": "display_data"
    },
    {
     "name": "stdout",
     "output_type": "stream",
     "text": [
      "Loss: 0.10537546128034592, Acc: 0.9699000120162964\n"
     ]
    }
   ],
   "source": [
    "# Results\n",
    "# print(history_01.history.keys())\n",
    "print(\"----- MNIST handwritten digit database -----\")\n",
    "print(\"\\nTraining set size: {},\\nDev set size: {},\\nTest set size: {}\".format(len(x_train)*(1-0.1667), len(x_train)*0.1667, len(x_test)))\n",
    "print(\"\\nLearning rate: {},\\nIteration: {},\\nBatch size: {}\\n\".format(learning_rate, iteration, batch_size))\n",
    "histories = [history_01.history, history_02.history, history_03.history]\n",
    "evaluates = [model_01.evaluate(x_test, y_test, batch_size = batch_size),\n",
    "            model_02.evaluate(x_test, y_test, batch_size = batch_size),\n",
    "            model_03.evaluate(x_test, y_test, batch_size = batch_size)]\n",
    "model_name = ['RMSprop', 'SGD', 'adam']\n",
    "for i in range(3):\n",
    "    \n",
    "    # 繪製訓練 & 驗證的準確值\n",
    "    plt.subplot(2,1,1)\n",
    "    plt.plot(histories[i]['categorical_accuracy'])\n",
    "    plt.plot(histories[i]['val_categorical_accuracy'])\n",
    "    plt.title(model_name[i])\n",
    "    plt.ylabel('Accuracy')\n",
    "    plt.xlabel('Epoch')\n",
    "    plt.legend(['Train', 'Test'], loc='lower right')\n",
    "    \n",
    "    # 繪製訓練 & 驗證的損失值\n",
    "    plt.subplot(2,1,2)\n",
    "    # plt.title('Model loss')\n",
    "    plt.plot(histories[i]['loss'])\n",
    "    plt.plot(histories[i]['val_loss'])\n",
    "    \n",
    "    plt.ylabel('Loss')\n",
    "    plt.xlabel('Epoch')\n",
    "    plt.legend(['Train', 'Test'], loc='upper right')\n",
    "    plt.show()\n",
    "    print(\"Loss: {}, Acc: {}\".format(evaluates[i][0], evaluates[i][1]))\n",
    "    \n",
    "# 小心得\n",
    "# 怎麼做得跟我一樣漂亮呢？\n",
    "# 1. 用 TensorBoard 會幫你自動生出 Visualization 的 Model history\n",
    "# 2. 用心土刻 QQ"
   ]
  },
  {
   "cell_type": "code",
   "execution_count": 16,
   "metadata": {
    "colab": {},
    "colab_type": "code",
    "id": "aknkbX4RWvkK"
   },
   "outputs": [],
   "source": [
    "predict = model_03.predict_classes(x_test[0].reshape(1,784))"
   ]
  },
  {
   "cell_type": "code",
   "execution_count": 17,
   "metadata": {},
   "outputs": [
    {
     "name": "stdout",
     "output_type": "stream",
     "text": [
      "7 "
     ]
    }
   ],
   "source": [
    "for i in range(len(predict)):\n",
    "    print(predict[i], end=' ')"
   ]
  }
 ],
 "metadata": {
  "accelerator": "GPU",
  "colab": {
   "collapsed_sections": [],
   "name": "MNIST.ipynb",
   "provenance": [],
   "version": "0.3.2"
  },
  "kernelspec": {
   "display_name": "Python 3",
   "language": "python",
   "name": "python3"
  },
  "language_info": {
   "codemirror_mode": {
    "name": "ipython",
    "version": 3
   },
   "file_extension": ".py",
   "mimetype": "text/x-python",
   "name": "python",
   "nbconvert_exporter": "python",
   "pygments_lexer": "ipython3",
   "version": "3.7.0"
  }
 },
 "nbformat": 4,
 "nbformat_minor": 1
}
