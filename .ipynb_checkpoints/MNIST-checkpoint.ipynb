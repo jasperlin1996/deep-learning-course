{
 "cells": [
  {
   "cell_type": "code",
   "execution_count": 1,
   "metadata": {
    "colab": {},
    "colab_type": "code",
    "id": "12d2ayV1WvjH"
   },
   "outputs": [],
   "source": [
    "%matplotlib inline\n",
    "import tensorflow as tf\n",
    "import numpy as np\n",
    "import matplotlib.pyplot as plt"
   ]
  },
  {
   "cell_type": "code",
   "execution_count": 2,
   "metadata": {
    "colab": {
     "base_uri": "https://localhost:8080/",
     "height": 170
    },
    "colab_type": "code",
    "executionInfo": {
     "elapsed": 4433,
     "status": "ok",
     "timestamp": 1548515070665,
     "user": {
      "displayName": "林君翰",
      "photoUrl": "",
      "userId": "03336861074926232472"
     },
     "user_tz": -480
    },
    "id": "JPSOxLleWvjX",
    "outputId": "f55d7089-3a56-4575-adec-3130ad1c88e8"
   },
   "outputs": [
    {
     "name": "stdout",
     "output_type": "stream",
     "text": [
      "Requirement already satisfied: keras in /usr/local/lib/python3.5/dist-packages (2.2.4)\n",
      "Requirement already satisfied: h5py in /usr/local/lib/python3.5/dist-packages (from keras) (2.8.0)\n",
      "Requirement already satisfied: keras-applications>=1.0.6 in /usr/local/lib/python3.5/dist-packages (from keras) (1.0.6)\n",
      "Requirement already satisfied: six>=1.9.0 in /usr/local/lib/python3.5/dist-packages (from keras) (1.11.0)\n",
      "Requirement already satisfied: pyyaml in /usr/local/lib/python3.5/dist-packages (from keras) (3.13)\n",
      "Requirement already satisfied: scipy>=0.14 in /usr/local/lib/python3.5/dist-packages (from keras) (1.1.0)\n",
      "Requirement already satisfied: numpy>=1.9.1 in /usr/local/lib/python3.5/dist-packages (from keras) (1.15.4)\n",
      "Requirement already satisfied: keras-preprocessing>=1.0.5 in /usr/local/lib/python3.5/dist-packages (from keras) (1.0.5)\n",
      "\u001b[33mYou are using pip version 18.1, however version 19.0.1 is available.\n",
      "You should consider upgrading via the 'pip install --upgrade pip' command.\u001b[0m\n"
     ]
    },
    {
     "name": "stderr",
     "output_type": "stream",
     "text": [
      "Using TensorFlow backend.\n"
     ]
    }
   ],
   "source": [
    "# tensorflow docker doesn't have keras in it\n",
    "!pip install keras\n",
    "import keras\n",
    "from keras.datasets import mnist                     # Datasets\n",
    "from keras.models import Sequential                  # Sequntial model\n",
    "from keras.layers import Dense, Activation, Input    # Layers for model\n",
    "from keras.callbacks import TensorBoard              # TensorBoard callback function for model.fit"
   ]
  },
  {
   "cell_type": "code",
   "execution_count": 3,
   "metadata": {
    "colab": {
     "base_uri": "https://localhost:8080/",
     "height": 51
    },
    "colab_type": "code",
    "executionInfo": {
     "elapsed": 1337,
     "status": "ok",
     "timestamp": 1548515164416,
     "user": {
      "displayName": "林君翰",
      "photoUrl": "",
      "userId": "03336861074926232472"
     },
     "user_tz": -480
    },
    "id": "UEo-91qAWvjg",
    "outputId": "eab3d1c8-9dd4-4fdc-a8e0-10590356f65d"
   },
   "outputs": [
    {
     "data": {
      "image/png": "[encoded data removed]",
      "text/plain": [
       "<Figure size 432x288 with 1 Axes>"
      ]
     },
     "metadata": {
      "needs_background": "light"
     },
     "output_type": "display_data"
    }
   ],
   "source": [
    "# Load MNIST dataset\n",
    "(x_train, y_train), (x_test, y_test) = mnist.load_data()\n",
    "\n",
    "pixels = x_train[9487]\n",
    "label = y_train[9487]\n",
    "\n",
    "# Plot\n",
    "plt.title('Label is {label}'.format(label=label))\n",
    "plt.imshow(pixels, cmap='gray')\n",
    "\n",
    "plt.show()"
   ]
  },
  {
   "cell_type": "code",
   "execution_count": 4,
   "metadata": {
    "colab": {},
    "colab_type": "code",
    "id": "0jN_B71YWvjh"
   },
   "outputs": [],
   "source": [
    "# Set hyperparameters\n",
    "learning_rate = 0.01\n",
    "iteration = 50\n",
    "batch_size = 30000"
   ]
  },
  {
   "cell_type": "markdown",
   "metadata": {},
   "source": [
    "### Preprocess the dataset\n",
    "`x_train` & `x_test`: 0-255. Black to white.\n",
    "* Reduce the range to 0~1\n",
    "\n",
    "`y_train` & `y_test`: 0~9. Represent the corresponding digit.\n",
    "* One-hot encoding"
   ]
  },
  {
   "cell_type": "code",
   "execution_count": 5,
   "metadata": {
    "colab": {
     "base_uri": "https://localhost:8080/",
     "height": 136
    },
    "colab_type": "code",
    "executionInfo": {
     "elapsed": 1591,
     "status": "ok",
     "timestamp": 1548515165040,
     "user": {
      "displayName": "林君翰",
      "photoUrl": "",
      "userId": "03336861074926232472"
     },
     "user_tz": -480
    },
    "id": "Uic9Cr18Wvjm",
    "outputId": "3a885b45-38a1-45ea-adf3-bc31c995fda6"
   },
   "outputs": [
    {
     "name": "stdout",
     "output_type": "stream",
     "text": [
      "[0. 1. 0. 0. 0. 0. 0. 0. 0. 0.]\n"
     ]
    }
   ],
   "source": [
    "# Preprocess the data\n",
    "o_y_train = y_train\n",
    "x_train = x_train/255\n",
    "y_train = keras.utils.to_categorical(y_train, num_classes=10)\n",
    "x_test = x_test/255\n",
    "y_test = keras.utils.to_categorical(y_test, num_classes=10)\n",
    "\n",
    "print(y_train[9487])\n",
    "\n",
    "#for i in range(10):\n",
    "#    print(o_y_train[i])\n",
    "#    print(y_train[i])"
   ]
  },
  {
   "cell_type": "code",
   "execution_count": 6,
   "metadata": {
    "colab": {},
    "colab_type": "code",
    "id": "SFEROcaLWvjn"
   },
   "outputs": [],
   "source": [
    "x_train = x_train.reshape((x_train.shape[0], x_train.shape[1]*x_train.shape[2]))\n",
    "x_test = x_test.reshape((x_test.shape[0], x_test.shape[1]*x_test.shape[2]))"
   ]
  },
  {
   "cell_type": "code",
   "execution_count": 7,
   "metadata": {
    "colab": {
     "base_uri": "https://localhost:8080/",
     "height": 85
    },
    "colab_type": "code",
    "executionInfo": {
     "elapsed": 576,
     "status": "ok",
     "timestamp": 1548515169650,
     "user": {
      "displayName": "林君翰",
      "photoUrl": "",
      "userId": "03336861074926232472"
     },
     "user_tz": -480
    },
    "id": "QTTLh-nKWvjp",
    "outputId": "6ba6ac95-1c76-48b8-df89-2a9cfea0b993"
   },
   "outputs": [
    {
     "name": "stdout",
     "output_type": "stream",
     "text": [
      "(60000, 784)\n",
      "(60000, 10)\n",
      "(10000, 784)\n",
      "(10000, 10)\n"
     ]
    }
   ],
   "source": [
    "print(x_train.shape)\n",
    "print(y_train.shape)\n",
    "print(x_test.shape)\n",
    "print(y_test.shape)"
   ]
  },
  {
   "cell_type": "code",
   "execution_count": 8,
   "metadata": {
    "colab": {},
    "colab_type": "code",
    "id": "Nc9TSvH2Wvjx"
   },
   "outputs": [],
   "source": [
    "model_01 = Sequential()\n",
    "model_02 = Sequential()\n",
    "model_03 = Sequential()\n",
    "model_04 = Sequential()"
   ]
  },
  {
   "cell_type": "code",
   "execution_count": 9,
   "metadata": {
    "colab": {},
    "colab_type": "code",
    "id": "T6zTr9IvWvjy"
   },
   "outputs": [],
   "source": [
    "layer_1 = Dense(784, activation = 'relu', input_dim = 784, kernel_initializer='random_uniform',bias_initializer='zeros')\n",
    "layer_2 = Dense(100, activation = 'relu')\n",
    "layer_3 = Dense(30, activation = 'relu')\n",
    "layer_4 = Dense(10, activation = 'softmax')\n",
    "\n",
    "layer_1_1 = Dense(784, activation = 'relu', input_dim = 784, kernel_initializer='random_uniform',bias_initializer='zeros')\n",
    "layer_2_1 = Dense(100, activation = 'relu')\n",
    "layer_3_1 = Dense(30, activation = 'relu')\n",
    "layer_4_1 = Dense(10, activation = 'softmax')\n",
    "\n",
    "layer_1_2 = Dense(784, activation = 'relu', input_dim = 784, kernel_initializer='random_uniform',bias_initializer='zeros')\n",
    "layer_2_2 = Dense(100, activation = 'relu')\n",
    "layer_3_2 = Dense(30, activation = 'relu')\n",
    "layer_4_2 = Dense(10, activation = 'softmax')"
   ]
  },
  {
   "cell_type": "code",
   "execution_count": 10,
   "metadata": {
    "colab": {},
    "colab_type": "code",
    "id": "iMBv9t1dWvj1"
   },
   "outputs": [],
   "source": [
    "model_01.add(layer_1)\n",
    "model_01.add(layer_2)\n",
    "model_01.add(layer_3)\n",
    "model_01.add(layer_4)\n",
    "\n",
    "model_02.add(layer_1_1)\n",
    "model_02.add(layer_2_1)\n",
    "model_02.add(layer_3_1)\n",
    "model_02.add(layer_4_1)\n",
    "\n",
    "model_03.add(layer_1_2)\n",
    "model_03.add(layer_2_2)\n",
    "model_03.add(layer_3_2)\n",
    "model_03.add(layer_4_2)"
   ]
  },
  {
   "cell_type": "code",
   "execution_count": 11,
   "metadata": {
    "colab": {},
    "colab_type": "code",
    "id": "Qdkr9ARnWvj5"
   },
   "outputs": [],
   "source": [
    "model_01.compile(optimizer = 'rmsprop', loss = 'categorical_crossentropy', metrics=['categorical_accuracy'])\n",
    "model_02.compile(optimizer = 'SGD', loss = 'categorical_crossentropy', metrics=['categorical_accuracy'])\n",
    "model_03.compile(optimizer = 'adam', loss = 'categorical_crossentropy', metrics=['categorical_accuracy'])"
   ]
  },
  {
   "cell_type": "code",
   "execution_count": 12,
   "metadata": {
    "colab": {
     "base_uri": "https://localhost:8080/",
     "height": 1717
    },
    "colab_type": "code",
    "executionInfo": {
     "elapsed": 151433,
     "status": "ok",
     "timestamp": 1548409008744,
     "user": {
      "displayName": "林君翰",
      "photoUrl": "",
      "userId": "03336861074926232472"
     },
     "user_tz": -480
    },
    "id": "4-xkb6gYWvkB",
    "outputId": "c836c62d-8e65-4671-8df1-ce69faa489f0"
   },
   "outputs": [
    {
     "name": "stdout",
     "output_type": "stream",
     "text": [
      "Train on 49998 samples, validate on 10002 samples\n",
      "Epoch 1/50\n",
      "49998/49998 [==============================] - 4s 73us/step - loss: 2.1390 - categorical_accuracy: 0.2528 - val_loss: 1.5851 - val_categorical_accuracy: 0.4468\n",
      "Epoch 2/50\n",
      "49998/49998 [==============================] - 2s 49us/step - loss: 1.7875 - categorical_accuracy: 0.3855 - val_loss: 1.5760 - val_categorical_accuracy: 0.5544\n",
      "Epoch 3/50\n",
      "49998/49998 [==============================] - 2s 47us/step - loss: 1.4930 - categorical_accuracy: 0.5595 - val_loss: 1.3517 - val_categorical_accuracy: 0.5892\n",
      "Epoch 4/50\n",
      "49998/49998 [==============================] - 2s 41us/step - loss: 1.3263 - categorical_accuracy: 0.6152 - val_loss: 0.8650 - val_categorical_accuracy: 0.8033\n",
      "Epoch 5/50\n",
      "49998/49998 [==============================] - 2s 41us/step - loss: 0.8824 - categorical_accuracy: 0.7738 - val_loss: 0.8839 - val_categorical_accuracy: 0.7486\n",
      "Epoch 6/50\n",
      "49998/49998 [==============================] - 5s 91us/step - loss: 0.9646 - categorical_accuracy: 0.7038 - val_loss: 0.7482 - val_categorical_accuracy: 0.8118\n",
      "Epoch 7/50\n",
      "49998/49998 [==============================] - 2s 41us/step - loss: 0.7528 - categorical_accuracy: 0.7921 - val_loss: 0.6499 - val_categorical_accuracy: 0.8203\n",
      "Epoch 8/50\n",
      "49998/49998 [==============================] - 2s 37us/step - loss: 0.7735 - categorical_accuracy: 0.7794 - val_loss: 0.7704 - val_categorical_accuracy: 0.7638\n",
      "Epoch 9/50\n",
      "49998/49998 [==============================] - 2s 38us/step - loss: 0.8311 - categorical_accuracy: 0.7357 - val_loss: 0.6168 - val_categorical_accuracy: 0.8053\n",
      "Epoch 10/50\n",
      "49998/49998 [==============================] - 2s 37us/step - loss: 0.6070 - categorical_accuracy: 0.8215 - val_loss: 0.4477 - val_categorical_accuracy: 0.8854\n",
      "Epoch 11/50\n",
      "49998/49998 [==============================] - 2s 43us/step - loss: 0.4783 - categorical_accuracy: 0.8773 - val_loss: 0.4103 - val_categorical_accuracy: 0.8906\n",
      "Epoch 12/50\n",
      "49998/49998 [==============================] - 2s 45us/step - loss: 0.4524 - categorical_accuracy: 0.8763 - val_loss: 0.4596 - val_categorical_accuracy: 0.8540\n",
      "Epoch 13/50\n",
      "49998/49998 [==============================] - 2s 40us/step - loss: 0.5163 - categorical_accuracy: 0.8320 - val_loss: 0.4865 - val_categorical_accuracy: 0.8392\n",
      "Epoch 14/50\n",
      "49998/49998 [==============================] - 2s 39us/step - loss: 0.5086 - categorical_accuracy: 0.8423 - val_loss: 0.4031 - val_categorical_accuracy: 0.8905\n",
      "Epoch 15/50\n",
      "49998/49998 [==============================] - 2s 39us/step - loss: 0.4382 - categorical_accuracy: 0.8775 - val_loss: 0.3877 - val_categorical_accuracy: 0.8955\n",
      "Epoch 16/50\n",
      "49998/49998 [==============================] - 2s 39us/step - loss: 0.4416 - categorical_accuracy: 0.8758 - val_loss: 0.3729 - val_categorical_accuracy: 0.9061\n",
      "Epoch 17/50\n",
      "49998/49998 [==============================] - 2s 38us/step - loss: 0.4180 - categorical_accuracy: 0.8844 - val_loss: 0.3657 - val_categorical_accuracy: 0.9066\n",
      "Epoch 18/50\n",
      "49998/49998 [==============================] - 2s 39us/step - loss: 0.4227 - categorical_accuracy: 0.8820 - val_loss: 0.4251 - val_categorical_accuracy: 0.8781\n",
      "Epoch 19/50\n",
      "49998/49998 [==============================] - 2s 46us/step - loss: 0.4978 - categorical_accuracy: 0.8505 - val_loss: 0.4629 - val_categorical_accuracy: 0.8632\n",
      "Epoch 20/50\n",
      "49998/49998 [==============================] - 2s 49us/step - loss: 0.4577 - categorical_accuracy: 0.8652 - val_loss: 0.2968 - val_categorical_accuracy: 0.9209\n",
      "Epoch 21/50\n",
      "49998/49998 [==============================] - 2s 44us/step - loss: 0.3151 - categorical_accuracy: 0.9144 - val_loss: 0.2677 - val_categorical_accuracy: 0.9288\n",
      "Epoch 22/50\n",
      "49998/49998 [==============================] - 2s 39us/step - loss: 0.2941 - categorical_accuracy: 0.9195 - val_loss: 0.2839 - val_categorical_accuracy: 0.9172\n",
      "Epoch 23/50\n",
      "49998/49998 [==============================] - 2s 44us/step - loss: 0.3239 - categorical_accuracy: 0.9021 - val_loss: 0.3614 - val_categorical_accuracy: 0.8858\n",
      "Epoch 24/50\n",
      "49998/49998 [==============================] - 4s 74us/step - loss: 0.3822 - categorical_accuracy: 0.8760 - val_loss: 0.2951 - val_categorical_accuracy: 0.9138\n",
      "Epoch 25/50\n",
      "49998/49998 [==============================] - 4s 86us/step - loss: 0.3158 - categorical_accuracy: 0.9072 - val_loss: 0.2786 - val_categorical_accuracy: 0.9224\n",
      "Epoch 26/50\n",
      "49998/49998 [==============================] - 2s 50us/step - loss: 0.2980 - categorical_accuracy: 0.9159 - val_loss: 0.2668 - val_categorical_accuracy: 0.9273\n",
      "Epoch 27/50\n",
      "49998/49998 [==============================] - 3s 55us/step - loss: 0.2855 - categorical_accuracy: 0.9200 - val_loss: 0.2648 - val_categorical_accuracy: 0.9276\n",
      "Epoch 28/50\n",
      "49998/49998 [==============================] - 3s 60us/step - loss: 0.2963 - categorical_accuracy: 0.9165 - val_loss: 0.2774 - val_categorical_accuracy: 0.9268\n",
      "Epoch 29/50\n",
      "49998/49998 [==============================] - 2s 42us/step - loss: 0.3064 - categorical_accuracy: 0.9134 - val_loss: 0.2526 - val_categorical_accuracy: 0.9328\n",
      "Epoch 30/50\n",
      "49998/49998 [==============================] - 7s 139us/step - loss: 0.2792 - categorical_accuracy: 0.9219 - val_loss: 0.2525 - val_categorical_accuracy: 0.9309\n",
      "Epoch 31/50\n",
      "49998/49998 [==============================] - 21s 411us/step - loss: 0.2868 - categorical_accuracy: 0.9172 - val_loss: 0.2580 - val_categorical_accuracy: 0.9271\n",
      "Epoch 32/50\n",
      "49998/49998 [==============================] - 5s 94us/step - loss: 0.2862 - categorical_accuracy: 0.9151 - val_loss: 0.2913 - val_categorical_accuracy: 0.9107\n",
      "Epoch 33/50\n",
      "49998/49998 [==============================] - 2s 38us/step - loss: 0.3201 - categorical_accuracy: 0.9004 - val_loss: 0.3314 - val_categorical_accuracy: 0.9012\n",
      "Epoch 34/50\n",
      "49998/49998 [==============================] - 2s 34us/step - loss: 0.3415 - categorical_accuracy: 0.8938 - val_loss: 0.2666 - val_categorical_accuracy: 0.9248\n",
      "Epoch 35/50\n",
      "49998/49998 [==============================] - 2s 36us/step - loss: 0.2783 - categorical_accuracy: 0.9155 - val_loss: 0.2163 - val_categorical_accuracy: 0.9409\n",
      "Epoch 36/50\n",
      "49998/49998 [==============================] - 2s 43us/step - loss: 0.2224 - categorical_accuracy: 0.9368 - val_loss: 0.1904 - val_categorical_accuracy: 0.9497\n",
      "Epoch 37/50\n",
      "49998/49998 [==============================] - 2s 44us/step - loss: 0.1975 - categorical_accuracy: 0.9447 - val_loss: 0.1821 - val_categorical_accuracy: 0.9518\n",
      "Epoch 38/50\n",
      "49998/49998 [==============================] - 2s 39us/step - loss: 0.1891 - categorical_accuracy: 0.9472 - val_loss: 0.1819 - val_categorical_accuracy: 0.9509\n",
      "Epoch 39/50\n",
      "49998/49998 [==============================] - 3s 53us/step - loss: 0.1925 - categorical_accuracy: 0.9450 - val_loss: 0.2088 - val_categorical_accuracy: 0.9402\n",
      "Epoch 40/50\n",
      "49998/49998 [==============================] - 2s 38us/step - loss: 0.2350 - categorical_accuracy: 0.9287 - val_loss: 0.2631 - val_categorical_accuracy: 0.9222\n",
      "Epoch 41/50\n",
      "49998/49998 [==============================] - 2s 36us/step - loss: 0.2679 - categorical_accuracy: 0.9194 - val_loss: 0.1927 - val_categorical_accuracy: 0.9451\n",
      "Epoch 42/50\n",
      "49998/49998 [==============================] - 2s 40us/step - loss: 0.1969 - categorical_accuracy: 0.9442 - val_loss: 0.1896 - val_categorical_accuracy: 0.9454\n",
      "Epoch 43/50\n",
      "49998/49998 [==============================] - 2s 35us/step - loss: 0.1997 - categorical_accuracy: 0.9428 - val_loss: 0.2375 - val_categorical_accuracy: 0.9234\n",
      "Epoch 44/50\n",
      "49998/49998 [==============================] - 2s 35us/step - loss: 0.2549 - categorical_accuracy: 0.9161 - val_loss: 0.2769 - val_categorical_accuracy: 0.9079\n",
      "Epoch 45/50\n",
      "49998/49998 [==============================] - 2s 35us/step - loss: 0.2847 - categorical_accuracy: 0.9096 - val_loss: 0.2166 - val_categorical_accuracy: 0.9375\n",
      "Epoch 46/50\n",
      "49998/49998 [==============================] - 2s 40us/step - loss: 0.2095 - categorical_accuracy: 0.9374 - val_loss: 0.1624 - val_categorical_accuracy: 0.9553\n",
      "Epoch 47/50\n",
      "49998/49998 [==============================] - 2s 41us/step - loss: 0.1639 - categorical_accuracy: 0.9539 - val_loss: 0.1616 - val_categorical_accuracy: 0.9564\n",
      "Epoch 48/50\n",
      "49998/49998 [==============================] - 2s 42us/step - loss: 0.1671 - categorical_accuracy: 0.9531 - val_loss: 0.1896 - val_categorical_accuracy: 0.9466\n",
      "Epoch 49/50\n",
      "49998/49998 [==============================] - 2s 38us/step - loss: 0.2196 - categorical_accuracy: 0.9348 - val_loss: 0.2917 - val_categorical_accuracy: 0.9154\n",
      "Epoch 50/50\n",
      "49998/49998 [==============================] - 2s 32us/step - loss: 0.3043 - categorical_accuracy: 0.9046 - val_loss: 0.2233 - val_categorical_accuracy: 0.9347\n",
      "Train on 49998 samples, validate on 10002 samples\n",
      "Epoch 1/50\n",
      "49998/49998 [==============================] - 2s 36us/step - loss: 2.3457 - categorical_accuracy: 0.0815 - val_loss: 2.3312 - val_categorical_accuracy: 0.0855\n",
      "Epoch 2/50\n",
      "49998/49998 [==============================] - 2s 35us/step - loss: 2.3305 - categorical_accuracy: 0.0842 - val_loss: 2.3172 - val_categorical_accuracy: 0.0895\n",
      "Epoch 3/50\n",
      "49998/49998 [==============================] - 2s 33us/step - loss: 2.3167 - categorical_accuracy: 0.0872 - val_loss: 2.3045 - val_categorical_accuracy: 0.0926\n",
      "Epoch 4/50\n",
      "49998/49998 [==============================] - 2s 33us/step - loss: 2.3041 - categorical_accuracy: 0.0912 - val_loss: 2.2929 - val_categorical_accuracy: 0.0969\n",
      "Epoch 5/50\n",
      "49998/49998 [==============================] - 2s 33us/step - loss: 2.2925 - categorical_accuracy: 0.0949 - val_loss: 2.2821 - val_categorical_accuracy: 0.1025\n",
      "Epoch 6/50\n",
      "49998/49998 [==============================] - 2s 33us/step - loss: 2.2818 - categorical_accuracy: 0.1005 - val_loss: 2.2719 - val_categorical_accuracy: 0.1103\n",
      "Epoch 7/50\n",
      "49998/49998 [==============================] - 2s 33us/step - loss: 2.2718 - categorical_accuracy: 0.1071 - val_loss: 2.2623 - val_categorical_accuracy: 0.1190\n",
      "Epoch 8/50\n",
      "49998/49998 [==============================] - 2s 34us/step - loss: 2.2624 - categorical_accuracy: 0.1151 - val_loss: 2.2530 - val_categorical_accuracy: 0.1287\n",
      "Epoch 9/50\n",
      "49998/49998 [==============================] - 2s 43us/step - loss: 2.2532 - categorical_accuracy: 0.1251 - val_loss: 2.2439 - val_categorical_accuracy: 0.1402\n",
      "Epoch 10/50\n",
      "49998/49998 [==============================] - 2s 41us/step - loss: 2.2443 - categorical_accuracy: 0.1362 - val_loss: 2.2351 - val_categorical_accuracy: 0.1512\n",
      "Epoch 11/50\n",
      "49998/49998 [==============================] - 2s 35us/step - loss: 2.2357 - categorical_accuracy: 0.1493 - val_loss: 2.2264 - val_categorical_accuracy: 0.1676\n",
      "Epoch 12/50\n",
      "49998/49998 [==============================] - 2s 33us/step - loss: 2.2271 - categorical_accuracy: 0.1642 - val_loss: 2.2179 - val_categorical_accuracy: 0.1845\n",
      "Epoch 13/50\n",
      "49998/49998 [==============================] - 2s 34us/step - loss: 2.2187 - categorical_accuracy: 0.1809 - val_loss: 2.2094 - val_categorical_accuracy: 0.2027\n",
      "Epoch 14/50\n",
      "49998/49998 [==============================] - 2s 33us/step - loss: 2.2104 - categorical_accuracy: 0.1991 - val_loss: 2.2009 - val_categorical_accuracy: 0.2223\n",
      "Epoch 15/50\n",
      "49998/49998 [==============================] - 2s 33us/step - loss: 2.2021 - categorical_accuracy: 0.2171 - val_loss: 2.1925 - val_categorical_accuracy: 0.2405\n",
      "Epoch 16/50\n",
      "49998/49998 [==============================] - 2s 32us/step - loss: 2.1938 - categorical_accuracy: 0.2348 - val_loss: 2.1840 - val_categorical_accuracy: 0.2601\n",
      "Epoch 17/50\n",
      "49998/49998 [==============================] - 2s 33us/step - loss: 2.1855 - categorical_accuracy: 0.2524 - val_loss: 2.1754 - val_categorical_accuracy: 0.2803\n",
      "Epoch 18/50\n",
      "49998/49998 [==============================] - 2s 33us/step - loss: 2.1772 - categorical_accuracy: 0.2698 - val_loss: 2.1668 - val_categorical_accuracy: 0.2964\n",
      "Epoch 19/50\n",
      "49998/49998 [==============================] - 2s 34us/step - loss: 2.1687 - categorical_accuracy: 0.2846 - val_loss: 2.1580 - val_categorical_accuracy: 0.3131\n",
      "Epoch 20/50\n",
      "49998/49998 [==============================] - 2s 33us/step - loss: 2.1601 - categorical_accuracy: 0.3006 - val_loss: 2.1490 - val_categorical_accuracy: 0.3316\n",
      "Epoch 21/50\n",
      "49998/49998 [==============================] - 2s 35us/step - loss: 2.1514 - categorical_accuracy: 0.3165 - val_loss: 2.1399 - val_categorical_accuracy: 0.3433\n",
      "Epoch 22/50\n",
      "49998/49998 [==============================] - 2s 34us/step - loss: 2.1425 - categorical_accuracy: 0.3312 - val_loss: 2.1306 - val_categorical_accuracy: 0.3573\n",
      "Epoch 23/50\n",
      "49998/49998 [==============================] - 2s 33us/step - loss: 2.1335 - categorical_accuracy: 0.3451 - val_loss: 2.1211 - val_categorical_accuracy: 0.3722\n",
      "Epoch 24/50\n",
      "49998/49998 [==============================] - 2s 33us/step - loss: 2.1242 - categorical_accuracy: 0.3589 - val_loss: 2.1114 - val_categorical_accuracy: 0.3840\n",
      "Epoch 25/50\n",
      "49998/49998 [==============================] - 2s 35us/step - loss: 2.1148 - categorical_accuracy: 0.3716 - val_loss: 2.1015 - val_categorical_accuracy: 0.3975\n",
      "Epoch 26/50\n",
      "49998/49998 [==============================] - 2s 32us/step - loss: 2.1052 - categorical_accuracy: 0.3850 - val_loss: 2.0914 - val_categorical_accuracy: 0.4106\n",
      "Epoch 27/50\n",
      "49998/49998 [==============================] - 2s 33us/step - loss: 2.0954 - categorical_accuracy: 0.3974 - val_loss: 2.0811 - val_categorical_accuracy: 0.4225\n",
      "Epoch 28/50\n",
      "49998/49998 [==============================] - 2s 33us/step - loss: 2.0853 - categorical_accuracy: 0.4093 - val_loss: 2.0706 - val_categorical_accuracy: 0.4342\n",
      "Epoch 29/50\n",
      "49998/49998 [==============================] - 2s 33us/step - loss: 2.0751 - categorical_accuracy: 0.4207 - val_loss: 2.0599 - val_categorical_accuracy: 0.4451\n",
      "Epoch 30/50\n",
      "49998/49998 [==============================] - 2s 33us/step - loss: 2.0647 - categorical_accuracy: 0.4315 - val_loss: 2.0490 - val_categorical_accuracy: 0.4555\n",
      "Epoch 31/50\n",
      "49998/49998 [==============================] - 2s 34us/step - loss: 2.0541 - categorical_accuracy: 0.4419 - val_loss: 2.0379 - val_categorical_accuracy: 0.4654\n",
      "Epoch 32/50\n",
      "49998/49998 [==============================] - 2s 35us/step - loss: 2.0433 - categorical_accuracy: 0.4507 - val_loss: 2.0267 - val_categorical_accuracy: 0.4759\n",
      "Epoch 33/50\n",
      "49998/49998 [==============================] - 2s 36us/step - loss: 2.0324 - categorical_accuracy: 0.4609 - val_loss: 2.0153 - val_categorical_accuracy: 0.4867\n",
      "Epoch 34/50\n",
      "49998/49998 [==============================] - 2s 34us/step - loss: 2.0213 - categorical_accuracy: 0.4696 - val_loss: 2.0038 - val_categorical_accuracy: 0.4946\n",
      "Epoch 35/50\n",
      "49998/49998 [==============================] - 2s 44us/step - loss: 2.0100 - categorical_accuracy: 0.4793 - val_loss: 1.9920 - val_categorical_accuracy: 0.5027\n",
      "Epoch 36/50\n",
      "49998/49998 [==============================] - 2s 36us/step - loss: 1.9986 - categorical_accuracy: 0.4887 - val_loss: 1.9802 - val_categorical_accuracy: 0.5099\n",
      "Epoch 37/50\n",
      "49998/49998 [==============================] - 2s 33us/step - loss: 1.9871 - categorical_accuracy: 0.4989 - val_loss: 1.9682 - val_categorical_accuracy: 0.5194\n",
      "Epoch 38/50\n",
      "49998/49998 [==============================] - 2s 33us/step - loss: 1.9754 - categorical_accuracy: 0.5080 - val_loss: 1.9561 - val_categorical_accuracy: 0.5278\n",
      "Epoch 39/50\n",
      "49998/49998 [==============================] - 2s 32us/step - loss: 1.9637 - categorical_accuracy: 0.5173 - val_loss: 1.9438 - val_categorical_accuracy: 0.5378\n",
      "Epoch 40/50\n",
      "49998/49998 [==============================] - 2s 34us/step - loss: 1.9518 - categorical_accuracy: 0.5273 - val_loss: 1.9314 - val_categorical_accuracy: 0.5474\n",
      "Epoch 41/50\n",
      "49998/49998 [==============================] - 2s 33us/step - loss: 1.9397 - categorical_accuracy: 0.5376 - val_loss: 1.9189 - val_categorical_accuracy: 0.5562\n",
      "Epoch 42/50\n",
      "49998/49998 [==============================] - 2s 33us/step - loss: 1.9276 - categorical_accuracy: 0.5464 - val_loss: 1.9063 - val_categorical_accuracy: 0.5660\n",
      "Epoch 43/50\n",
      "49998/49998 [==============================] - 2s 33us/step - loss: 1.9154 - categorical_accuracy: 0.5559 - val_loss: 1.8936 - val_categorical_accuracy: 0.5740\n",
      "Epoch 44/50\n",
      "49998/49998 [==============================] - 2s 33us/step - loss: 1.9031 - categorical_accuracy: 0.5648 - val_loss: 1.8807 - val_categorical_accuracy: 0.5832\n",
      "Epoch 45/50\n"
     ]
    },
    {
     "name": "stdout",
     "output_type": "stream",
     "text": [
      "49998/49998 [==============================] - 2s 34us/step - loss: 1.8906 - categorical_accuracy: 0.5732 - val_loss: 1.8677 - val_categorical_accuracy: 0.5911\n",
      "Epoch 46/50\n",
      "49998/49998 [==============================] - 2s 33us/step - loss: 1.8781 - categorical_accuracy: 0.5816 - val_loss: 1.8546 - val_categorical_accuracy: 0.5982\n",
      "Epoch 47/50\n",
      "49998/49998 [==============================] - 2s 32us/step - loss: 1.8654 - categorical_accuracy: 0.5895 - val_loss: 1.8414 - val_categorical_accuracy: 0.6079\n",
      "Epoch 48/50\n",
      "49998/49998 [==============================] - 2s 34us/step - loss: 1.8526 - categorical_accuracy: 0.5982 - val_loss: 1.8280 - val_categorical_accuracy: 0.6168\n",
      "Epoch 49/50\n",
      "49998/49998 [==============================] - 2s 35us/step - loss: 1.8397 - categorical_accuracy: 0.6057 - val_loss: 1.8146 - val_categorical_accuracy: 0.6227\n",
      "Epoch 50/50\n",
      "49998/49998 [==============================] - 2s 37us/step - loss: 1.8267 - categorical_accuracy: 0.6128 - val_loss: 1.8010 - val_categorical_accuracy: 0.6310\n",
      "Train on 49998 samples, validate on 10002 samples\n",
      "Epoch 1/50\n",
      "49998/49998 [==============================] - 2s 48us/step - loss: 2.2385 - categorical_accuracy: 0.1440 - val_loss: 1.9582 - val_categorical_accuracy: 0.3633\n",
      "Epoch 2/50\n",
      "49998/49998 [==============================] - 2s 42us/step - loss: 1.8987 - categorical_accuracy: 0.4015 - val_loss: 1.6104 - val_categorical_accuracy: 0.6170\n",
      "Epoch 3/50\n",
      "49998/49998 [==============================] - 2s 36us/step - loss: 1.5627 - categorical_accuracy: 0.6334 - val_loss: 1.2802 - val_categorical_accuracy: 0.7635\n",
      "Epoch 4/50\n",
      "49998/49998 [==============================] - 2s 33us/step - loss: 1.2494 - categorical_accuracy: 0.7544 - val_loss: 0.9794 - val_categorical_accuracy: 0.8220\n",
      "Epoch 5/50\n",
      "49998/49998 [==============================] - 2s 33us/step - loss: 0.9708 - categorical_accuracy: 0.8057 - val_loss: 0.7397 - val_categorical_accuracy: 0.8513\n",
      "Epoch 6/50\n",
      "49998/49998 [==============================] - 2s 34us/step - loss: 0.7514 - categorical_accuracy: 0.8331 - val_loss: 0.5808 - val_categorical_accuracy: 0.8625\n",
      "Epoch 7/50\n",
      "49998/49998 [==============================] - 2s 33us/step - loss: 0.6077 - categorical_accuracy: 0.8473 - val_loss: 0.4813 - val_categorical_accuracy: 0.8711\n",
      "Epoch 8/50\n",
      "49998/49998 [==============================] - 2s 34us/step - loss: 0.5126 - categorical_accuracy: 0.8596 - val_loss: 0.4186 - val_categorical_accuracy: 0.8810\n",
      "Epoch 9/50\n",
      "49998/49998 [==============================] - 2s 32us/step - loss: 0.4491 - categorical_accuracy: 0.8714 - val_loss: 0.3748 - val_categorical_accuracy: 0.8919\n",
      "Epoch 10/50\n",
      "49998/49998 [==============================] - 2s 34us/step - loss: 0.4030 - categorical_accuracy: 0.8837 - val_loss: 0.3441 - val_categorical_accuracy: 0.9003\n",
      "Epoch 11/50\n",
      "49998/49998 [==============================] - 2s 41us/step - loss: 0.3696 - categorical_accuracy: 0.8930 - val_loss: 0.3161 - val_categorical_accuracy: 0.9117\n",
      "Epoch 12/50\n",
      "49998/49998 [==============================] - 2s 44us/step - loss: 0.3385 - categorical_accuracy: 0.9013 - val_loss: 0.2949 - val_categorical_accuracy: 0.9133\n",
      "Epoch 13/50\n",
      "49998/49998 [==============================] - 2s 35us/step - loss: 0.3141 - categorical_accuracy: 0.9084 - val_loss: 0.2769 - val_categorical_accuracy: 0.9196\n",
      "Epoch 14/50\n",
      "49998/49998 [==============================] - 2s 33us/step - loss: 0.2935 - categorical_accuracy: 0.9143 - val_loss: 0.2625 - val_categorical_accuracy: 0.9238\n",
      "Epoch 15/50\n",
      "49998/49998 [==============================] - 2s 34us/step - loss: 0.2761 - categorical_accuracy: 0.9202 - val_loss: 0.2507 - val_categorical_accuracy: 0.9278\n",
      "Epoch 16/50\n",
      "49998/49998 [==============================] - 2s 33us/step - loss: 0.2614 - categorical_accuracy: 0.9250 - val_loss: 0.2393 - val_categorical_accuracy: 0.9322\n",
      "Epoch 17/50\n",
      "49998/49998 [==============================] - 2s 33us/step - loss: 0.2492 - categorical_accuracy: 0.9286 - val_loss: 0.2300 - val_categorical_accuracy: 0.9349\n",
      "Epoch 18/50\n",
      "49998/49998 [==============================] - 2s 33us/step - loss: 0.2377 - categorical_accuracy: 0.9314 - val_loss: 0.2241 - val_categorical_accuracy: 0.9361\n",
      "Epoch 19/50\n",
      "49998/49998 [==============================] - 2s 32us/step - loss: 0.2287 - categorical_accuracy: 0.9345 - val_loss: 0.2156 - val_categorical_accuracy: 0.9390\n",
      "Epoch 20/50\n",
      "49998/49998 [==============================] - 2s 34us/step - loss: 0.2204 - categorical_accuracy: 0.9362 - val_loss: 0.2079 - val_categorical_accuracy: 0.9413\n",
      "Epoch 21/50\n",
      "49998/49998 [==============================] - 2s 36us/step - loss: 0.2107 - categorical_accuracy: 0.9392 - val_loss: 0.2021 - val_categorical_accuracy: 0.9431\n",
      "Epoch 22/50\n",
      "49998/49998 [==============================] - 2s 34us/step - loss: 0.2025 - categorical_accuracy: 0.9417 - val_loss: 0.1955 - val_categorical_accuracy: 0.9449\n",
      "Epoch 23/50\n",
      "49998/49998 [==============================] - 2s 32us/step - loss: 0.1959 - categorical_accuracy: 0.9433 - val_loss: 0.1901 - val_categorical_accuracy: 0.9461\n",
      "Epoch 24/50\n",
      "49998/49998 [==============================] - 2s 34us/step - loss: 0.1892 - categorical_accuracy: 0.9451 - val_loss: 0.1842 - val_categorical_accuracy: 0.9476\n",
      "Epoch 25/50\n",
      "49998/49998 [==============================] - 2s 32us/step - loss: 0.1823 - categorical_accuracy: 0.9472 - val_loss: 0.1798 - val_categorical_accuracy: 0.9504\n",
      "Epoch 26/50\n",
      "49998/49998 [==============================] - 2s 37us/step - loss: 0.1763 - categorical_accuracy: 0.9491 - val_loss: 0.1756 - val_categorical_accuracy: 0.9509\n",
      "Epoch 27/50\n",
      "49998/49998 [==============================] - 2s 34us/step - loss: 0.1706 - categorical_accuracy: 0.9508 - val_loss: 0.1714 - val_categorical_accuracy: 0.9529\n",
      "Epoch 28/50\n",
      "49998/49998 [==============================] - 2s 33us/step - loss: 0.1658 - categorical_accuracy: 0.9519 - val_loss: 0.1694 - val_categorical_accuracy: 0.9536\n",
      "Epoch 29/50\n",
      "49998/49998 [==============================] - 2s 32us/step - loss: 0.1611 - categorical_accuracy: 0.9534 - val_loss: 0.1646 - val_categorical_accuracy: 0.9545\n",
      "Epoch 30/50\n",
      "49998/49998 [==============================] - 2s 34us/step - loss: 0.1562 - categorical_accuracy: 0.9556 - val_loss: 0.1628 - val_categorical_accuracy: 0.9556\n",
      "Epoch 31/50\n",
      "49998/49998 [==============================] - 2s 34us/step - loss: 0.1514 - categorical_accuracy: 0.9567 - val_loss: 0.1583 - val_categorical_accuracy: 0.9574\n",
      "Epoch 32/50\n",
      "49998/49998 [==============================] - 2s 32us/step - loss: 0.1469 - categorical_accuracy: 0.9586 - val_loss: 0.1555 - val_categorical_accuracy: 0.9568\n",
      "Epoch 33/50\n",
      "49998/49998 [==============================] - 2s 43us/step - loss: 0.1429 - categorical_accuracy: 0.9595 - val_loss: 0.1518 - val_categorical_accuracy: 0.9584\n",
      "Epoch 34/50\n",
      "49998/49998 [==============================] - 2s 41us/step - loss: 0.1382 - categorical_accuracy: 0.9610 - val_loss: 0.1495 - val_categorical_accuracy: 0.9595\n",
      "Epoch 35/50\n",
      "49998/49998 [==============================] - 2s 36us/step - loss: 0.1346 - categorical_accuracy: 0.9621 - val_loss: 0.1456 - val_categorical_accuracy: 0.9597\n",
      "Epoch 36/50\n",
      "49998/49998 [==============================] - 2s 34us/step - loss: 0.1308 - categorical_accuracy: 0.9633 - val_loss: 0.1442 - val_categorical_accuracy: 0.9610\n",
      "Epoch 37/50\n",
      "49998/49998 [==============================] - 2s 34us/step - loss: 0.1270 - categorical_accuracy: 0.9642 - val_loss: 0.1407 - val_categorical_accuracy: 0.9621\n",
      "Epoch 38/50\n",
      "49998/49998 [==============================] - 2s 34us/step - loss: 0.1230 - categorical_accuracy: 0.9651 - val_loss: 0.1388 - val_categorical_accuracy: 0.9623\n",
      "Epoch 39/50\n",
      "49998/49998 [==============================] - 2s 35us/step - loss: 0.1195 - categorical_accuracy: 0.9665 - val_loss: 0.1358 - val_categorical_accuracy: 0.9622\n",
      "Epoch 40/50\n",
      "49998/49998 [==============================] - 2s 35us/step - loss: 0.1164 - categorical_accuracy: 0.9672 - val_loss: 0.1342 - val_categorical_accuracy: 0.9636\n",
      "Epoch 41/50\n",
      "49998/49998 [==============================] - 2s 33us/step - loss: 0.1131 - categorical_accuracy: 0.9684 - val_loss: 0.1320 - val_categorical_accuracy: 0.9644\n",
      "Epoch 42/50\n",
      "49998/49998 [==============================] - 2s 34us/step - loss: 0.1105 - categorical_accuracy: 0.9691 - val_loss: 0.1305 - val_categorical_accuracy: 0.9640\n",
      "Epoch 43/50\n",
      "49998/49998 [==============================] - 2s 35us/step - loss: 0.1075 - categorical_accuracy: 0.9695 - val_loss: 0.1282 - val_categorical_accuracy: 0.9654\n",
      "Epoch 44/50\n",
      "49998/49998 [==============================] - 2s 32us/step - loss: 0.1041 - categorical_accuracy: 0.9712 - val_loss: 0.1259 - val_categorical_accuracy: 0.9656\n",
      "Epoch 45/50\n",
      "49998/49998 [==============================] - 2s 33us/step - loss: 0.1015 - categorical_accuracy: 0.9715 - val_loss: 0.1238 - val_categorical_accuracy: 0.9661\n",
      "Epoch 46/50\n",
      "49998/49998 [==============================] - 2s 33us/step - loss: 0.0985 - categorical_accuracy: 0.9728 - val_loss: 0.1247 - val_categorical_accuracy: 0.9658\n",
      "Epoch 47/50\n",
      "49998/49998 [==============================] - 2s 34us/step - loss: 0.0965 - categorical_accuracy: 0.9732 - val_loss: 0.1207 - val_categorical_accuracy: 0.9664\n",
      "Epoch 48/50\n",
      "49998/49998 [==============================] - 2s 37us/step - loss: 0.0932 - categorical_accuracy: 0.9740 - val_loss: 0.1196 - val_categorical_accuracy: 0.9665\n",
      "Epoch 49/50\n",
      "49998/49998 [==============================] - 2s 38us/step - loss: 0.0911 - categorical_accuracy: 0.9751 - val_loss: 0.1212 - val_categorical_accuracy: 0.9664\n",
      "Epoch 50/50\n",
      "49998/49998 [==============================] - 2s 39us/step - loss: 0.0901 - categorical_accuracy: 0.9752 - val_loss: 0.1172 - val_categorical_accuracy: 0.9677\n"
     ]
    }
   ],
   "source": [
    "history_01 = model_01.fit(x_train, y_train, epochs=iteration, batch_size=batch_size, validation_split=0.1667, verbose = 1, callbacks=[TensorBoard(log_dir='./tmp/log_4')])\n",
    "history_02 = model_02.fit(x_train, y_train, epochs=iteration, batch_size=batch_size, validation_split=0.1667, verbose = 1, callbacks=[TensorBoard(log_dir='./tmp/log_5')])\n",
    "history_03 = model_03.fit(x_train, y_train, epochs=iteration, batch_size=batch_size, validation_split=0.1667, verbose = 1, callbacks=[TensorBoard(log_dir='./tmp/log_6')])"
   ]
  },
  {
   "cell_type": "code",
   "execution_count": 13,
   "metadata": {
    "colab": {
     "base_uri": "https://localhost:8080/",
     "height": 51
    },
    "colab_type": "code",
    "executionInfo": {
     "elapsed": 777,
     "status": "ok",
     "timestamp": 1548409013109,
     "user": {
      "displayName": "林君翰",
      "photoUrl": "",
      "userId": "03336861074926232472"
     },
     "user_tz": -480
    },
    "id": "cYwyrtLUWvkE",
    "outputId": "6a1afe3d-a5ec-4de0-fe09-5952993ce684"
   },
   "outputs": [
    {
     "name": "stdout",
     "output_type": "stream",
     "text": [
      "10000/10000 [==============================] - 1s 78us/step\n",
      "model_01: [0.23805592954158783, 0.9312000274658203]\n"
     ]
    }
   ],
   "source": [
    "evaluate_01 = model_01.evaluate(x_test, y_test, batch_size = batch_size)\n",
    "print(\"model_01: {}\".format(evaluate_01))\n"
   ]
  },
  {
   "cell_type": "code",
   "execution_count": 57,
   "metadata": {
    "colab": {
     "base_uri": "https://localhost:8080/",
     "height": 571
    },
    "colab_type": "code",
    "executionInfo": {
     "elapsed": 1314,
     "status": "ok",
     "timestamp": 1548409036617,
     "user": {
      "displayName": "林君翰",
      "photoUrl": "",
      "userId": "03336861074926232472"
     },
     "user_tz": -480
    },
    "id": "0ux0KaI0WvkH",
    "outputId": "8b7b76c2-52d8-4c65-9181-73fd2837e5e4"
   },
   "outputs": [
    {
     "name": "stdout",
     "output_type": "stream",
     "text": [
      "----- MNIST handwritten digit database -----\n",
      "\n",
      "Training set size: 49998.0,\n",
      "Dev set size: 10002.0,\n",
      "Test set size: 10000\n",
      "\n",
      "Learning rate: 0.01,\n",
      "Iteration:50,\n",
      "Batch size: 30000\n",
      "\n",
      "10000/10000 [==============================] - 0s 17us/step\n",
      "10000/10000 [==============================] - 0s 15us/step\n",
      "10000/10000 [==============================] - 0s 15us/step\n"
     ]
    },
    {
     "data": {
      "image/png": "[encoded data removed]",
      "text/plain": [
       "<Figure size 432x288 with 2 Axes>"
      ]
     },
     "metadata": {
      "needs_background": "light"
     },
     "output_type": "display_data"
    },
    {
     "name": "stdout",
     "output_type": "stream",
     "text": [
      "Loss: 0.23805592954158783, Acc: 0.9312000274658203\n"
     ]
    },
    {
     "data": {
      "image/png": "[encoded data removed]",
      "text/plain": [
       "<Figure size 432x288 with 2 Axes>"
      ]
     },
     "metadata": {
      "needs_background": "light"
     },
     "output_type": "display_data"
    },
    {
     "name": "stdout",
     "output_type": "stream",
     "text": [
      "Loss: 1.7966387271881104, Acc: 0.6218000054359436\n"
     ]
    },
    {
     "data": {
      "image/png": "[encoded data removed]",
      "text/plain": [
       "<Figure size 432x288 with 2 Axes>"
      ]
     },
     "metadata": {
      "needs_background": "light"
     },
     "output_type": "display_data"
    },
    {
     "name": "stdout",
     "output_type": "stream",
     "text": [
      "Loss: 0.11410518735647202, Acc: 0.9667999744415283\n"
     ]
    }
   ],
   "source": [
    "# Results\n",
    "# print(history_01.history.keys())\n",
    "print(\"----- MNIST handwritten digit database -----\")\n",
    "print(\"\\nTraining set size: {},\\nDev set size: {},\\nTest set size: {}\".format(len(x_train)*(1-0.1667), len(x_train)*0.1667, len(x_test)))\n",
    "print(\"\\nLearning rate: {},\\nIteration: {},\\nBatch size: {}\\n\".format(learning_rate, iteration, batch_size))\n",
    "histories = [history_01.history, history_02.history, history_03.history]\n",
    "evaluates = [model_01.evaluate(x_test, y_test, batch_size = batch_size),\n",
    "            model_02.evaluate(x_test, y_test, batch_size = batch_size),\n",
    "            model_03.evaluate(x_test, y_test, batch_size = batch_size)]\n",
    "model_name = ['RMSprop', 'SGD', 'adam']\n",
    "for i in range(3):\n",
    "    \n",
    "    # 繪製訓練 & 驗證的準確值\n",
    "    plt.subplot(2,1,1)\n",
    "    plt.plot(histories[i]['categorical_accuracy'])\n",
    "    plt.plot(histories[i]['val_categorical_accuracy'])\n",
    "    plt.title(model_name[i])\n",
    "    plt.ylabel('Accuracy')\n",
    "    plt.xlabel('Epoch')\n",
    "    plt.legend(['Train', 'Test'], loc='lower right')\n",
    "    \n",
    "    # 繪製訓練 & 驗證的損失值\n",
    "    plt.subplot(2,1,2)\n",
    "    # plt.title('Model loss')\n",
    "    plt.plot(histories[i]['loss'])\n",
    "    plt.plot(histories[i]['val_loss'])\n",
    "    \n",
    "    plt.ylabel('Loss')\n",
    "    plt.xlabel('Epoch')\n",
    "    plt.legend(['Train', 'Test'], loc='upper right')\n",
    "    plt.show()\n",
    "    print(\"Loss: {}, Acc: {}\".format(evaluates[i][0], evaluates[i][1]))\n",
    "    \n",
    "# 小心得\n",
    "# 怎麼做得跟我一樣漂亮呢？\n",
    "# 1. 用 TensorBoard 會幫你自動生出 Visualization 的 Model history\n",
    "# 2. 用心土刻 QQ"
   ]
  },
  {
   "cell_type": "code",
   "execution_count": 58,
   "metadata": {
    "colab": {},
    "colab_type": "code",
    "id": "aknkbX4RWvkK"
   },
   "outputs": [],
   "source": [
    "predict = model_03.predict_classes(x_test[0].reshape(1,784))"
   ]
  },
  {
   "cell_type": "code",
   "execution_count": 59,
   "metadata": {},
   "outputs": [
    {
     "name": "stdout",
     "output_type": "stream",
     "text": [
      "7 "
     ]
    }
   ],
   "source": [
    "for i in range(len(predict)):\n",
    "    print(predict[i], end=' ')"
   ]
  },
  {
   "cell_type": "code",
   "execution_count": 60,
   "metadata": {},
   "outputs": [
    {
     "data": {
      "text/plain": [
       "array([0.        , 0.        , 0.        , 0.        , 0.        ,\n",
       "       0.        , 0.        , 0.        , 0.        , 0.        ,\n",
       "       0.        , 0.        , 0.        , 0.        , 0.        ,\n",
       "       0.        , 0.        , 0.        , 0.        , 0.        ,\n",
       "       0.        , 0.        , 0.        , 0.        , 0.        ,\n",
       "       0.        , 0.        , 0.        , 0.        , 0.        ,\n",
       "       0.        , 0.        , 0.        , 0.        , 0.        ,\n",
       "       0.        , 0.        , 0.        , 0.        , 0.        ,\n",
       "       0.        , 0.        , 0.        , 0.        , 0.        ,\n",
       "       0.        , 0.        , 0.        , 0.        , 0.        ,\n",
       "       0.        , 0.        , 0.        , 0.        , 0.        ,\n",
       "       0.        , 0.        , 0.        , 0.        , 0.        ,\n",
       "       0.        , 0.        , 0.        , 0.        , 0.        ,\n",
       "       0.        , 0.        , 0.        , 0.        , 0.        ,\n",
       "       0.        , 0.        , 0.        , 0.        , 0.        ,\n",
       "       0.        , 0.        , 0.        , 0.        , 0.        ,\n",
       "       0.        , 0.        , 0.        , 0.        , 0.        ,\n",
       "       0.        , 0.        , 0.        , 0.        , 0.        ,\n",
       "       0.        , 0.        , 0.        , 0.        , 0.        ,\n",
       "       0.        , 0.        , 0.        , 0.        , 0.        ,\n",
       "       0.        , 0.        , 0.        , 0.        , 0.        ,\n",
       "       0.        , 0.        , 0.        , 0.        , 0.        ,\n",
       "       0.        , 0.        , 0.        , 0.        , 0.        ,\n",
       "       0.        , 0.        , 0.        , 0.        , 0.        ,\n",
       "       0.        , 0.        , 0.        , 0.        , 0.        ,\n",
       "       0.        , 0.        , 0.        , 0.        , 0.        ,\n",
       "       0.        , 0.        , 0.        , 0.        , 0.        ,\n",
       "       0.        , 0.        , 0.        , 0.        , 0.        ,\n",
       "       0.        , 0.        , 0.        , 0.        , 0.        ,\n",
       "       0.        , 0.        , 0.        , 0.        , 0.        ,\n",
       "       0.        , 0.        , 0.        , 0.        , 0.        ,\n",
       "       0.        , 0.        , 0.        , 0.        , 0.        ,\n",
       "       0.        , 0.        , 0.        , 0.        , 0.        ,\n",
       "       0.        , 0.        , 0.        , 0.        , 0.        ,\n",
       "       0.        , 0.        , 0.        , 0.        , 0.        ,\n",
       "       0.        , 0.        , 0.        , 0.        , 0.        ,\n",
       "       0.        , 0.        , 0.        , 0.        , 0.        ,\n",
       "       0.        , 0.        , 0.        , 0.        , 0.        ,\n",
       "       0.        , 0.        , 0.        , 0.        , 0.        ,\n",
       "       0.        , 0.        , 0.        , 0.        , 0.        ,\n",
       "       0.        , 0.        , 0.32941176, 0.7254902 , 0.62352941,\n",
       "       0.59215686, 0.23529412, 0.14117647, 0.        , 0.        ,\n",
       "       0.        , 0.        , 0.        , 0.        , 0.        ,\n",
       "       0.        , 0.        , 0.        , 0.        , 0.        ,\n",
       "       0.        , 0.        , 0.        , 0.        , 0.        ,\n",
       "       0.        , 0.        , 0.        , 0.        , 0.        ,\n",
       "       0.87058824, 0.99607843, 0.99607843, 0.99607843, 0.99607843,\n",
       "       0.94509804, 0.77647059, 0.77647059, 0.77647059, 0.77647059,\n",
       "       0.77647059, 0.77647059, 0.77647059, 0.77647059, 0.66666667,\n",
       "       0.20392157, 0.        , 0.        , 0.        , 0.        ,\n",
       "       0.        , 0.        , 0.        , 0.        , 0.        ,\n",
       "       0.        , 0.        , 0.        , 0.2627451 , 0.44705882,\n",
       "       0.28235294, 0.44705882, 0.63921569, 0.89019608, 0.99607843,\n",
       "       0.88235294, 0.99607843, 0.99607843, 0.99607843, 0.98039216,\n",
       "       0.89803922, 0.99607843, 0.99607843, 0.54901961, 0.        ,\n",
       "       0.        , 0.        , 0.        , 0.        , 0.        ,\n",
       "       0.        , 0.        , 0.        , 0.        , 0.        ,\n",
       "       0.        , 0.        , 0.        , 0.        , 0.        ,\n",
       "       0.        , 0.06666667, 0.25882353, 0.05490196, 0.2627451 ,\n",
       "       0.2627451 , 0.2627451 , 0.23137255, 0.08235294, 0.9254902 ,\n",
       "       0.99607843, 0.41568627, 0.        , 0.        , 0.        ,\n",
       "       0.        , 0.        , 0.        , 0.        , 0.        ,\n",
       "       0.        , 0.        , 0.        , 0.        , 0.        ,\n",
       "       0.        , 0.        , 0.        , 0.        , 0.        ,\n",
       "       0.        , 0.        , 0.        , 0.        , 0.        ,\n",
       "       0.        , 0.3254902 , 0.99215686, 0.81960784, 0.07058824,\n",
       "       0.        , 0.        , 0.        , 0.        , 0.        ,\n",
       "       0.        , 0.        , 0.        , 0.        , 0.        ,\n",
       "       0.        , 0.        , 0.        , 0.        , 0.        ,\n",
       "       0.        , 0.        , 0.        , 0.        , 0.        ,\n",
       "       0.        , 0.        , 0.        , 0.08627451, 0.91372549,\n",
       "       1.        , 0.3254902 , 0.        , 0.        , 0.        ,\n",
       "       0.        , 0.        , 0.        , 0.        , 0.        ,\n",
       "       0.        , 0.        , 0.        , 0.        , 0.        ,\n",
       "       0.        , 0.        , 0.        , 0.        , 0.        ,\n",
       "       0.        , 0.        , 0.        , 0.        , 0.        ,\n",
       "       0.        , 0.50588235, 0.99607843, 0.93333333, 0.17254902,\n",
       "       0.        , 0.        , 0.        , 0.        , 0.        ,\n",
       "       0.        , 0.        , 0.        , 0.        , 0.        ,\n",
       "       0.        , 0.        , 0.        , 0.        , 0.        ,\n",
       "       0.        , 0.        , 0.        , 0.        , 0.        ,\n",
       "       0.        , 0.        , 0.        , 0.23137255, 0.97647059,\n",
       "       0.99607843, 0.24313725, 0.        , 0.        , 0.        ,\n",
       "       0.        , 0.        , 0.        , 0.        , 0.        ,\n",
       "       0.        , 0.        , 0.        , 0.        , 0.        ,\n",
       "       0.        , 0.        , 0.        , 0.        , 0.        ,\n",
       "       0.        , 0.        , 0.        , 0.        , 0.        ,\n",
       "       0.        , 0.52156863, 0.99607843, 0.73333333, 0.01960784,\n",
       "       0.        , 0.        , 0.        , 0.        , 0.        ,\n",
       "       0.        , 0.        , 0.        , 0.        , 0.        ,\n",
       "       0.        , 0.        , 0.        , 0.        , 0.        ,\n",
       "       0.        , 0.        , 0.        , 0.        , 0.        ,\n",
       "       0.        , 0.        , 0.        , 0.03529412, 0.80392157,\n",
       "       0.97254902, 0.22745098, 0.        , 0.        , 0.        ,\n",
       "       0.        , 0.        , 0.        , 0.        , 0.        ,\n",
       "       0.        , 0.        , 0.        , 0.        , 0.        ,\n",
       "       0.        , 0.        , 0.        , 0.        , 0.        ,\n",
       "       0.        , 0.        , 0.        , 0.        , 0.        ,\n",
       "       0.        , 0.49411765, 0.99607843, 0.71372549, 0.        ,\n",
       "       0.        , 0.        , 0.        , 0.        , 0.        ,\n",
       "       0.        , 0.        , 0.        , 0.        , 0.        ,\n",
       "       0.        , 0.        , 0.        , 0.        , 0.        ,\n",
       "       0.        , 0.        , 0.        , 0.        , 0.        ,\n",
       "       0.        , 0.        , 0.        , 0.29411765, 0.98431373,\n",
       "       0.94117647, 0.22352941, 0.        , 0.        , 0.        ,\n",
       "       0.        , 0.        , 0.        , 0.        , 0.        ,\n",
       "       0.        , 0.        , 0.        , 0.        , 0.        ,\n",
       "       0.        , 0.        , 0.        , 0.        , 0.        ,\n",
       "       0.        , 0.        , 0.        , 0.        , 0.        ,\n",
       "       0.0745098 , 0.86666667, 0.99607843, 0.65098039, 0.        ,\n",
       "       0.        , 0.        , 0.        , 0.        , 0.        ,\n",
       "       0.        , 0.        , 0.        , 0.        , 0.        ,\n",
       "       0.        , 0.        , 0.        , 0.        , 0.        ,\n",
       "       0.        , 0.        , 0.        , 0.        , 0.        ,\n",
       "       0.        , 0.        , 0.01176471, 0.79607843, 0.99607843,\n",
       "       0.85882353, 0.1372549 , 0.        , 0.        , 0.        ,\n",
       "       0.        , 0.        , 0.        , 0.        , 0.        ,\n",
       "       0.        , 0.        , 0.        , 0.        , 0.        ,\n",
       "       0.        , 0.        , 0.        , 0.        , 0.        ,\n",
       "       0.        , 0.        , 0.        , 0.        , 0.        ,\n",
       "       0.14901961, 0.99607843, 0.99607843, 0.30196078, 0.        ,\n",
       "       0.        , 0.        , 0.        , 0.        , 0.        ,\n",
       "       0.        , 0.        , 0.        , 0.        , 0.        ,\n",
       "       0.        , 0.        , 0.        , 0.        , 0.        ,\n",
       "       0.        , 0.        , 0.        , 0.        , 0.        ,\n",
       "       0.        , 0.        , 0.12156863, 0.87843137, 0.99607843,\n",
       "       0.45098039, 0.00392157, 0.        , 0.        , 0.        ,\n",
       "       0.        , 0.        , 0.        , 0.        , 0.        ,\n",
       "       0.        , 0.        , 0.        , 0.        , 0.        ,\n",
       "       0.        , 0.        , 0.        , 0.        , 0.        ,\n",
       "       0.        , 0.        , 0.        , 0.        , 0.        ,\n",
       "       0.52156863, 0.99607843, 0.99607843, 0.20392157, 0.        ,\n",
       "       0.        , 0.        , 0.        , 0.        , 0.        ,\n",
       "       0.        , 0.        , 0.        , 0.        , 0.        ,\n",
       "       0.        , 0.        , 0.        , 0.        , 0.        ,\n",
       "       0.        , 0.        , 0.        , 0.        , 0.        ,\n",
       "       0.        , 0.        , 0.23921569, 0.94901961, 0.99607843,\n",
       "       0.99607843, 0.20392157, 0.        , 0.        , 0.        ,\n",
       "       0.        , 0.        , 0.        , 0.        , 0.        ,\n",
       "       0.        , 0.        , 0.        , 0.        , 0.        ,\n",
       "       0.        , 0.        , 0.        , 0.        , 0.        ,\n",
       "       0.        , 0.        , 0.        , 0.        , 0.        ,\n",
       "       0.4745098 , 0.99607843, 0.99607843, 0.85882353, 0.15686275,\n",
       "       0.        , 0.        , 0.        , 0.        , 0.        ,\n",
       "       0.        , 0.        , 0.        , 0.        , 0.        ,\n",
       "       0.        , 0.        , 0.        , 0.        , 0.        ,\n",
       "       0.        , 0.        , 0.        , 0.        , 0.        ,\n",
       "       0.        , 0.        , 0.        , 0.4745098 , 0.99607843,\n",
       "       0.81176471, 0.07058824, 0.        , 0.        , 0.        ,\n",
       "       0.        , 0.        , 0.        , 0.        , 0.        ,\n",
       "       0.        , 0.        , 0.        , 0.        , 0.        ,\n",
       "       0.        , 0.        , 0.        , 0.        , 0.        ,\n",
       "       0.        , 0.        , 0.        , 0.        , 0.        ,\n",
       "       0.        , 0.        , 0.        , 0.        , 0.        ,\n",
       "       0.        , 0.        , 0.        , 0.        , 0.        ,\n",
       "       0.        , 0.        , 0.        , 0.        , 0.        ,\n",
       "       0.        , 0.        , 0.        , 0.        ])"
      ]
     },
     "execution_count": 60,
     "metadata": {},
     "output_type": "execute_result"
    }
   ],
   "source": [
    "x_test[0].reshape(784)"
   ]
  },
  {
   "cell_type": "code",
   "execution_count": null,
   "metadata": {},
   "outputs": [],
   "source": [
    "x_test[0].reshape(1, 784)"
   ]
  },
  {
   "cell_type": "code",
   "execution_count": null,
   "metadata": {},
   "outputs": [],
   "source": []
  }
 ],
 "metadata": {
  "accelerator": "GPU",
  "colab": {
   "collapsed_sections": [],
   "name": "MNIST.ipynb",
   "provenance": [],
   "version": "0.3.2"
  },
  "kernelspec": {
   "display_name": "Python 3",
   "language": "python",
   "name": "python3"
  },
  "language_info": {
   "codemirror_mode": {
    "name": "ipython",
    "version": 3
   },
   "file_extension": ".py",
   "mimetype": "text/x-python",
   "name": "python",
   "nbconvert_exporter": "python",
   "pygments_lexer": "ipython3",
   "version": "3.7.0"
  }
 },
 "nbformat": 4,
 "nbformat_minor": 1
}
