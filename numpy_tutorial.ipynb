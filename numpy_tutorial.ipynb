{
 "cells": [
  {
   "cell_type": "markdown",
   "metadata": {},
   "source": [
    "# Numpy\n",
    "Numpy 是個在 Python 上的科學計算函式庫，現在我們來簡介一下 Numpy 可以幹嘛"
   ]
  },
  {
   "cell_type": "markdown",
   "metadata": {},
   "source": [
    "使用它之前要記得 import，慣例是簡稱為 `np`，如下所示：\n",
    "\n",
    "`import numpy as np`\n",
    "\n",
    "Matplotlib 是個資料視覺化的函式庫，可以用一些比較直觀的方法看一下 numpy 生出的數據：\n",
    "\n",
    "`import matplotlib.pyplot as plt`"
   ]
  },
  {
   "cell_type": "code",
   "execution_count": 2,
   "metadata": {},
   "outputs": [],
   "source": [
    "%matplotlib inline\n",
    "import numpy as np\n",
    "import matplotlib.pyplot as plt"
   ]
  },
  {
   "cell_type": "markdown",
   "metadata": {},
   "source": [
    "`np.array()` 可以建立一個 numpy 專用的 array，第一個參數要放一個 list"
   ]
  },
  {
   "cell_type": "code",
   "execution_count": 3,
   "metadata": {},
   "outputs": [
    {
     "name": "stdout",
     "output_type": "stream",
     "text": [
      "(3,)\n"
     ]
    }
   ],
   "source": [
    "a = np.array([1,2,3])\n",
    "print(a.shape)"
   ]
  },
  {
   "cell_type": "markdown",
   "metadata": {},
   "source": [
    "`np.arange()` 可以建立一個 rank 1 np array，裡面的內容會\n",
    "\n",
    "Ref: https://docs.scipy.org/doc/numpy/reference/generated/numpy.arange.html"
   ]
  },
  {
   "cell_type": "code",
   "execution_count": 4,
   "metadata": {},
   "outputs": [
    {
     "name": "stdout",
     "output_type": "stream",
     "text": [
      "[0 1 2 3 4 5 6 7 8 9]\n",
      "(10,)\n"
     ]
    }
   ],
   "source": [
    "a = np.arange(10)\n",
    "print(a)\n",
    "print(a.shape)"
   ]
  },
  {
   "cell_type": "markdown",
   "metadata": {},
   "source": [
    "`np.random` 裡面有很多 random 的方法，可以自己尋覓一下ＸＤ\n",
    "\n",
    "常用的是以下兩種："
   ]
  },
  {
   "cell_type": "code",
   "execution_count": 5,
   "metadata": {},
   "outputs": [
    {
     "name": "stdout",
     "output_type": "stream",
     "text": [
      "[-0.53292921 -0.14921713 -0.40723792 ... -0.65484969 -1.02560439\n",
      " -1.24159798]\n"
     ]
    },
    {
     "data": {
      "image/png": "[encoded data removed]",
      "text/plain": [
       "<Figure size 432x288 with 1 Axes>"
      ]
     },
     "metadata": {
      "needs_background": "light"
     },
     "output_type": "display_data"
    },
    {
     "data": {
      "image/png": "[encoded data removed]",
      "text/plain": [
       "<Figure size 432x288 with 1 Axes>"
      ]
     },
     "metadata": {
      "needs_background": "light"
     },
     "output_type": "display_data"
    }
   ],
   "source": [
    "# 生成 100000 組標準常態分配（平均值為 0，標準差為 1 的常態分配）隨機變數\n",
    "normal_samples = np.random.normal(size = 100000)   # np.random.randn(100000)\n",
    " # 生成 100000 組介於 0 與 1 之間均勻分配隨機變數\n",
    "uniform_samples = np.random.uniform(size = 100000)  # np.random.random(100000)\n",
    "\n",
    "print(normal_samples)\n",
    "plt.hist(normal_samples)\n",
    "plt.show()\n",
    "plt.hist(uniform_samples)\n",
    "plt.show()"
   ]
  },
  {
   "cell_type": "markdown",
   "metadata": {},
   "source": [
    "`np.reshape()` 可以把 np array 轉成你想要的形狀，理論上裡面該放個 tuple 不過沒指定的話預設會把所有參數當一個 tuple。\n",
    "\n",
    "`np.multiply()` 可以把兩個 shape 相同的 np array 以 element-wise 的方式相乘。如果 `b` 與 `c` 各是一個矩陣的話，`b*c` 也是一樣的意思。\n",
    "\n",
    "`np.dot()` 則是正常的矩陣乘法，用法跟上面一樣，不過沒有 `b*c` 這種語法糖。"
   ]
  },
  {
   "cell_type": "code",
   "execution_count": 13,
   "metadata": {},
   "outputs": [
    {
     "name": "stdout",
     "output_type": "stream",
     "text": [
      "[[  0.           0.19367483]\n",
      " [  0.94879074  -2.09500651]\n",
      " [ -1.23930022  11.62898679]\n",
      " [  5.48969508   8.74630119]\n",
      " [ 10.48849706 -14.83153822]] \n",
      " (5, 2)\n",
      "[[  2.32579736   0.91494918   1.2494716    1.31106213  -1.64794869]\n",
      " [ 10.19139368   3.1321972    4.69720554   2.53651539  -5.56349618]\n",
      " [ 18.05699      5.34944522   8.14493947   3.76196864  -9.47904368]\n",
      " [ 25.92258633   7.56669323  11.59267341   4.9874219  -13.39459117]\n",
      " [ 33.78818265   9.78394125  15.04040735   6.21287516 -17.31013866]] \n",
      " (5, 5)\n"
     ]
    }
   ],
   "source": [
    "b = np.arange(10).reshape(5,2)\n",
    "c = np.random.randn(10).reshape(5,2)\n",
    "d = np.multiply(b,c)    # b*c\n",
    "print(d, '\\n', d.shape)\n",
    "c = c.reshape(2,5)\n",
    "e = np.dot(b, c)\n",
    "print(e, '\\n', e.shape)\n",
    "# reshape(:, -1)"
   ]
  },
  {
   "cell_type": "code",
   "execution_count": 7,
   "metadata": {},
   "outputs": [
    {
     "name": "stdout",
     "output_type": "stream",
     "text": [
      "[[1]\n",
      " [2]\n",
      " [3]]\n"
     ]
    }
   ],
   "source": [
    "# np.zeros()\n",
    "# np.ones()\n",
    "\n",
    "# mutable\n",
    "# immutable\n",
    "\n",
    "# np rank 1 array and it's solution https://www.jianshu.com/p/9ff7a3c9a182\n",
    "\n",
    "a = np.array([[1],[2],[3]])\n",
    "a_test = a\n",
    "print(a_test)"
   ]
  },
  {
   "cell_type": "code",
   "execution_count": 8,
   "metadata": {},
   "outputs": [
    {
     "name": "stdout",
     "output_type": "stream",
     "text": [
      "[[1]\n",
      " [9]\n",
      " [3]]\n",
      "[[1]\n",
      " [9]\n",
      " [3]]\n"
     ]
    }
   ],
   "source": [
    "a_test[1, 0] = 9\n",
    "print(a_test)\n",
    "print(a)"
   ]
  }
 ],
 "metadata": {
  "kernelspec": {
   "display_name": "Python 3",
   "language": "python",
   "name": "python3"
  },
  "language_info": {
   "codemirror_mode": {
    "name": "ipython",
    "version": 3
   },
   "file_extension": ".py",
   "mimetype": "text/x-python",
   "name": "python",
   "nbconvert_exporter": "python",
   "pygments_lexer": "ipython3",
   "version": "3.7.0"
  }
 },
 "nbformat": 4,
 "nbformat_minor": 2
}
