{
 "cells": [
  {
   "cell_type": "code",
   "execution_count": 1,
   "metadata": {},
   "outputs": [
    {
     "name": "stderr",
     "output_type": "stream",
     "text": [
      "Using TensorFlow backend.\n"
     ]
    }
   ],
   "source": [
    "%matplotlib inline\n",
    "import numpy as np\n",
    "import matplotlib.pyplot as plt"
   ]
  },
  {
   "cell_type": "code",
   "execution_count": 34,
   "metadata": {},
   "outputs": [
    {
     "name": "stdout",
     "output_type": "stream",
     "text": [
      "(3,)\n"
     ]
    }
   ],
   "source": [
    "a = np.array([1,2,3])\n",
    "print(a.shape)"
   ]
  },
  {
   "cell_type": "code",
   "execution_count": 38,
   "metadata": {},
   "outputs": [
    {
     "name": "stdout",
     "output_type": "stream",
     "text": [
      "[0 1 2 3 4 5 6 7 8 9]\n",
      "(10,)\n"
     ]
    }
   ],
   "source": [
    "a = np.arange(10)\n",
    "print(a)\n",
    "print(a.shape)"
   ]
  },
  {
   "cell_type": "code",
   "execution_count": 48,
   "metadata": {},
   "outputs": [
    {
     "name": "stdout",
     "output_type": "stream",
     "text": [
      "[-0.64384656  0.88165764  0.30681439 ... -0.14047774  0.51545369\n",
      "  2.73883588]\n"
     ]
    },
    {
     "data": {
      "image/png": "[encoded data removed]",
      "text/plain": [
       "<Figure size 432x288 with 1 Axes>"
      ]
     },
     "metadata": {
      "needs_background": "light"
     },
     "output_type": "display_data"
    },
    {
     "data": {
      "image/png": "[encoded data removed]",
      "text/plain": [
       "<Figure size 432x288 with 1 Axes>"
      ]
     },
     "metadata": {
      "needs_background": "light"
     },
     "output_type": "display_data"
    }
   ],
   "source": [
    "# 生成 100000 組標準常態分配（平均值為 0，標準差為 1 的常態分配）隨機變數\n",
    "normal_samples = np.random.normal(size = 100000)   # np.random.randn(100000)\n",
    " # 生成 100000 組介於 0 與 1 之間均勻分配隨機變數\n",
    "uniform_samples = np.random.uniform(size = 100000)  # np.random.random(100000)\n",
    "\n",
    "print(normal_samples)\n",
    "plt.hist(normal_samples)\n",
    "plt.show()\n",
    "plt.hist(uniform_samples)\n",
    "plt.show()"
   ]
  },
  {
   "cell_type": "code",
   "execution_count": 72,
   "metadata": {},
   "outputs": [
    {
     "name": "stdout",
     "output_type": "stream",
     "text": [
      "[[ 0.         -0.11416403]\n",
      " [ 1.03518219  1.65695788]\n",
      " [-0.70711937  5.25025732]\n",
      " [11.80564796 -0.49272452]\n",
      " [-6.64773253 15.8255693 ]] \n",
      " (5, 2)\n",
      "[[ 1.05005146  1.96760799 -0.07038922 -0.83096657  1.75839659]\n",
      " [ 3.55934884  5.67449591  0.82401454 -1.38826112  4.92163008]\n",
      " [ 6.06864622  9.38138383  1.71841829 -1.94555567  8.08486357]\n",
      " [ 8.57794359 13.08827175  2.61282204 -2.50285022 11.24809706]\n",
      " [11.08724097 16.79515967  3.5072258  -3.06014477 14.41133055]] \n",
      " (5, 5)\n"
     ]
    }
   ],
   "source": [
    "b = np.arange(10).reshape(5,2)\n",
    "c = np.random.randn(10).reshape(5,2)\n",
    "d = np.multiply(b,c)    # b*c\n",
    "print(d, '\\n', d.shape)\n",
    "c = c.reshape(2,5)\n",
    "e = np.dot(b, c)\n",
    "print(e, '\\n', e.shape)\n",
    "# reshape(:, -1)"
   ]
  },
  {
   "cell_type": "code",
   "execution_count": null,
   "metadata": {},
   "outputs": [],
   "source": [
    "# np.zeros()\n",
    "# np.ones()\n",
    "\n",
    "# mutable\n",
    "# immutable\n",
    "\n",
    "# np rank 1 array and it's solution https://www.jianshu.com/p/9ff7a3c9a182"
   ]
  }
 ],
 "metadata": {
  "kernelspec": {
   "display_name": "Python 3",
   "language": "python",
   "name": "python3"
  },
  "language_info": {
   "codemirror_mode": {
    "name": "ipython",
    "version": 3
   },
   "file_extension": ".py",
   "mimetype": "text/x-python",
   "name": "python",
   "nbconvert_exporter": "python",
   "pygments_lexer": "ipython3",
   "version": "3.7.0"
  }
 },
 "nbformat": 4,
 "nbformat_minor": 2
}
